{
 "cells": [
  {
   "cell_type": "code",
   "execution_count": 1,
   "id": "a257e37c-3a27-4de1-98da-5a34152b0776",
   "metadata": {},
   "outputs": [],
   "source": [
    "import pandas as pd\n",
    "import numpy as np"
   ]
  },
  {
   "cell_type": "code",
   "execution_count": 239,
   "id": "6455a807-9fc5-4251-85ed-65e1881414a3",
   "metadata": {},
   "outputs": [],
   "source": [
    "df = pd.read_csv(r\"C:\\Users\\GOLLA RAVI TEJA\\Downloads\\steam_dataset.csv\")"
   ]
  },
  {
   "cell_type": "code",
   "execution_count": 3,
   "id": "0f72fe6a",
   "metadata": {
    "scrolled": true
   },
   "outputs": [
    {
     "data": {
      "text/html": [
       "<div>\n",
       "<style scoped>\n",
       "    .dataframe tbody tr th:only-of-type {\n",
       "        vertical-align: middle;\n",
       "    }\n",
       "\n",
       "    .dataframe tbody tr th {\n",
       "        vertical-align: top;\n",
       "    }\n",
       "\n",
       "    .dataframe thead th {\n",
       "        text-align: right;\n",
       "    }\n",
       "</style>\n",
       "<table border=\"1\" class=\"dataframe\">\n",
       "  <thead>\n",
       "    <tr style=\"text-align: right;\">\n",
       "      <th></th>\n",
       "      <th>Unnamed: 0</th>\n",
       "      <th>appid</th>\n",
       "      <th>name</th>\n",
       "      <th>release_date</th>\n",
       "      <th>english</th>\n",
       "      <th>developer</th>\n",
       "      <th>publisher</th>\n",
       "      <th>platforms</th>\n",
       "      <th>required_age</th>\n",
       "      <th>categories</th>\n",
       "      <th>genres</th>\n",
       "      <th>steamspy_tags</th>\n",
       "      <th>achievements</th>\n",
       "      <th>positive_ratings</th>\n",
       "      <th>negative_ratings</th>\n",
       "      <th>average_playtime</th>\n",
       "      <th>median_playtime</th>\n",
       "      <th>owners</th>\n",
       "      <th>price</th>\n",
       "      <th>revenue</th>\n",
       "    </tr>\n",
       "  </thead>\n",
       "  <tbody>\n",
       "    <tr>\n",
       "      <th>0</th>\n",
       "      <td>0</td>\n",
       "      <td>10</td>\n",
       "      <td>Counter-Strike</td>\n",
       "      <td>2000-11-01</td>\n",
       "      <td>1</td>\n",
       "      <td>Valve</td>\n",
       "      <td>Valve</td>\n",
       "      <td>windows;mac;linux</td>\n",
       "      <td>0</td>\n",
       "      <td>Multi-player;Online Multi-Player;Local Multi-P...</td>\n",
       "      <td>Action</td>\n",
       "      <td>Action;FPS;Multiplayer</td>\n",
       "      <td>0</td>\n",
       "      <td>124534</td>\n",
       "      <td>3339</td>\n",
       "      <td>17612</td>\n",
       "      <td>317</td>\n",
       "      <td>20000000</td>\n",
       "      <td>7.19</td>\n",
       "      <td>143800000.0</td>\n",
       "    </tr>\n",
       "    <tr>\n",
       "      <th>1</th>\n",
       "      <td>1</td>\n",
       "      <td>20</td>\n",
       "      <td>Team Fortress Classic</td>\n",
       "      <td>1999-04-01</td>\n",
       "      <td>1</td>\n",
       "      <td>Valve</td>\n",
       "      <td>Valve</td>\n",
       "      <td>windows;mac;linux</td>\n",
       "      <td>0</td>\n",
       "      <td>Multi-player;Online Multi-Player;Local Multi-P...</td>\n",
       "      <td>Action</td>\n",
       "      <td>Action;FPS;Multiplayer</td>\n",
       "      <td>0</td>\n",
       "      <td>3318</td>\n",
       "      <td>633</td>\n",
       "      <td>277</td>\n",
       "      <td>62</td>\n",
       "      <td>10000000</td>\n",
       "      <td>3.99</td>\n",
       "      <td>39900000.0</td>\n",
       "    </tr>\n",
       "    <tr>\n",
       "      <th>2</th>\n",
       "      <td>2</td>\n",
       "      <td>30</td>\n",
       "      <td>Day of Defeat</td>\n",
       "      <td>2003-05-01</td>\n",
       "      <td>1</td>\n",
       "      <td>Valve</td>\n",
       "      <td>Valve</td>\n",
       "      <td>windows;mac;linux</td>\n",
       "      <td>0</td>\n",
       "      <td>Multi-player;Valve Anti-Cheat enabled</td>\n",
       "      <td>Action</td>\n",
       "      <td>FPS;World War II;Multiplayer</td>\n",
       "      <td>0</td>\n",
       "      <td>3416</td>\n",
       "      <td>398</td>\n",
       "      <td>187</td>\n",
       "      <td>34</td>\n",
       "      <td>10000000</td>\n",
       "      <td>3.99</td>\n",
       "      <td>39900000.0</td>\n",
       "    </tr>\n",
       "    <tr>\n",
       "      <th>3</th>\n",
       "      <td>3</td>\n",
       "      <td>40</td>\n",
       "      <td>Deathmatch Classic</td>\n",
       "      <td>2001-06-01</td>\n",
       "      <td>1</td>\n",
       "      <td>Valve</td>\n",
       "      <td>Valve</td>\n",
       "      <td>windows;mac;linux</td>\n",
       "      <td>0</td>\n",
       "      <td>Multi-player;Online Multi-Player;Local Multi-P...</td>\n",
       "      <td>Action</td>\n",
       "      <td>Action;FPS;Multiplayer</td>\n",
       "      <td>0</td>\n",
       "      <td>1273</td>\n",
       "      <td>267</td>\n",
       "      <td>258</td>\n",
       "      <td>184</td>\n",
       "      <td>10000000</td>\n",
       "      <td>3.99</td>\n",
       "      <td>39900000.0</td>\n",
       "    </tr>\n",
       "    <tr>\n",
       "      <th>4</th>\n",
       "      <td>4</td>\n",
       "      <td>50</td>\n",
       "      <td>Half-Life: Opposing Force</td>\n",
       "      <td>1999-11-01</td>\n",
       "      <td>1</td>\n",
       "      <td>Gearbox Software</td>\n",
       "      <td>Valve</td>\n",
       "      <td>windows;mac;linux</td>\n",
       "      <td>0</td>\n",
       "      <td>Single-player;Multi-player;Valve Anti-Cheat en...</td>\n",
       "      <td>Action</td>\n",
       "      <td>FPS;Action;Sci-fi</td>\n",
       "      <td>0</td>\n",
       "      <td>5250</td>\n",
       "      <td>288</td>\n",
       "      <td>624</td>\n",
       "      <td>415</td>\n",
       "      <td>10000000</td>\n",
       "      <td>3.99</td>\n",
       "      <td>39900000.0</td>\n",
       "    </tr>\n",
       "  </tbody>\n",
       "</table>\n",
       "</div>"
      ],
      "text/plain": [
       "   Unnamed: 0  appid                       name release_date  english  \\\n",
       "0           0     10             Counter-Strike   2000-11-01        1   \n",
       "1           1     20      Team Fortress Classic   1999-04-01        1   \n",
       "2           2     30              Day of Defeat   2003-05-01        1   \n",
       "3           3     40         Deathmatch Classic   2001-06-01        1   \n",
       "4           4     50  Half-Life: Opposing Force   1999-11-01        1   \n",
       "\n",
       "          developer publisher          platforms  required_age  \\\n",
       "0             Valve     Valve  windows;mac;linux             0   \n",
       "1             Valve     Valve  windows;mac;linux             0   \n",
       "2             Valve     Valve  windows;mac;linux             0   \n",
       "3             Valve     Valve  windows;mac;linux             0   \n",
       "4  Gearbox Software     Valve  windows;mac;linux             0   \n",
       "\n",
       "                                          categories  genres  \\\n",
       "0  Multi-player;Online Multi-Player;Local Multi-P...  Action   \n",
       "1  Multi-player;Online Multi-Player;Local Multi-P...  Action   \n",
       "2              Multi-player;Valve Anti-Cheat enabled  Action   \n",
       "3  Multi-player;Online Multi-Player;Local Multi-P...  Action   \n",
       "4  Single-player;Multi-player;Valve Anti-Cheat en...  Action   \n",
       "\n",
       "                  steamspy_tags  achievements  positive_ratings  \\\n",
       "0        Action;FPS;Multiplayer             0            124534   \n",
       "1        Action;FPS;Multiplayer             0              3318   \n",
       "2  FPS;World War II;Multiplayer             0              3416   \n",
       "3        Action;FPS;Multiplayer             0              1273   \n",
       "4             FPS;Action;Sci-fi             0              5250   \n",
       "\n",
       "   negative_ratings  average_playtime  median_playtime    owners  price  \\\n",
       "0              3339             17612              317  20000000   7.19   \n",
       "1               633               277               62  10000000   3.99   \n",
       "2               398               187               34  10000000   3.99   \n",
       "3               267               258              184  10000000   3.99   \n",
       "4               288               624              415  10000000   3.99   \n",
       "\n",
       "       revenue  \n",
       "0  143800000.0  \n",
       "1   39900000.0  \n",
       "2   39900000.0  \n",
       "3   39900000.0  \n",
       "4   39900000.0  "
      ]
     },
     "execution_count": 3,
     "metadata": {},
     "output_type": "execute_result"
    }
   ],
   "source": [
    "df.head()"
   ]
  },
  {
   "cell_type": "code",
   "execution_count": 4,
   "id": "c175c3c3",
   "metadata": {},
   "outputs": [],
   "source": [
    "df.drop(columns=['Unnamed: 0'],inplace=True)"
   ]
  },
  {
   "cell_type": "code",
   "execution_count": 5,
   "id": "ba164837",
   "metadata": {},
   "outputs": [
    {
     "data": {
      "text/plain": [
       "Index(['appid', 'name', 'release_date', 'english', 'developer', 'publisher',\n",
       "       'platforms', 'required_age', 'categories', 'genres', 'steamspy_tags',\n",
       "       'achievements', 'positive_ratings', 'negative_ratings',\n",
       "       'average_playtime', 'median_playtime', 'owners', 'price', 'revenue'],\n",
       "      dtype='object')"
      ]
     },
     "execution_count": 5,
     "metadata": {},
     "output_type": "execute_result"
    }
   ],
   "source": [
    "df.columns"
   ]
  },
  {
   "cell_type": "code",
   "execution_count": 6,
   "id": "7b030019",
   "metadata": {},
   "outputs": [
    {
     "data": {
      "text/html": [
       "<div>\n",
       "<style scoped>\n",
       "    .dataframe tbody tr th:only-of-type {\n",
       "        vertical-align: middle;\n",
       "    }\n",
       "\n",
       "    .dataframe tbody tr th {\n",
       "        vertical-align: top;\n",
       "    }\n",
       "\n",
       "    .dataframe thead th {\n",
       "        text-align: right;\n",
       "    }\n",
       "</style>\n",
       "<table border=\"1\" class=\"dataframe\">\n",
       "  <thead>\n",
       "    <tr style=\"text-align: right;\">\n",
       "      <th></th>\n",
       "      <th>appid</th>\n",
       "      <th>name</th>\n",
       "      <th>release_date</th>\n",
       "      <th>english</th>\n",
       "      <th>developer</th>\n",
       "      <th>publisher</th>\n",
       "      <th>platforms</th>\n",
       "      <th>required_age</th>\n",
       "      <th>categories</th>\n",
       "      <th>genres</th>\n",
       "      <th>steamspy_tags</th>\n",
       "      <th>achievements</th>\n",
       "      <th>positive_ratings</th>\n",
       "      <th>negative_ratings</th>\n",
       "      <th>average_playtime</th>\n",
       "      <th>median_playtime</th>\n",
       "      <th>owners</th>\n",
       "      <th>price</th>\n",
       "      <th>revenue</th>\n",
       "    </tr>\n",
       "  </thead>\n",
       "  <tbody>\n",
       "    <tr>\n",
       "      <th>0</th>\n",
       "      <td>10</td>\n",
       "      <td>Counter-Strike</td>\n",
       "      <td>2000-11-01</td>\n",
       "      <td>1</td>\n",
       "      <td>Valve</td>\n",
       "      <td>Valve</td>\n",
       "      <td>windows;mac;linux</td>\n",
       "      <td>0</td>\n",
       "      <td>Multi-player;Online Multi-Player;Local Multi-P...</td>\n",
       "      <td>Action</td>\n",
       "      <td>Action;FPS;Multiplayer</td>\n",
       "      <td>0</td>\n",
       "      <td>124534</td>\n",
       "      <td>3339</td>\n",
       "      <td>17612</td>\n",
       "      <td>317</td>\n",
       "      <td>20000000</td>\n",
       "      <td>7.19</td>\n",
       "      <td>143800000.0</td>\n",
       "    </tr>\n",
       "    <tr>\n",
       "      <th>1</th>\n",
       "      <td>20</td>\n",
       "      <td>Team Fortress Classic</td>\n",
       "      <td>1999-04-01</td>\n",
       "      <td>1</td>\n",
       "      <td>Valve</td>\n",
       "      <td>Valve</td>\n",
       "      <td>windows;mac;linux</td>\n",
       "      <td>0</td>\n",
       "      <td>Multi-player;Online Multi-Player;Local Multi-P...</td>\n",
       "      <td>Action</td>\n",
       "      <td>Action;FPS;Multiplayer</td>\n",
       "      <td>0</td>\n",
       "      <td>3318</td>\n",
       "      <td>633</td>\n",
       "      <td>277</td>\n",
       "      <td>62</td>\n",
       "      <td>10000000</td>\n",
       "      <td>3.99</td>\n",
       "      <td>39900000.0</td>\n",
       "    </tr>\n",
       "    <tr>\n",
       "      <th>2</th>\n",
       "      <td>30</td>\n",
       "      <td>Day of Defeat</td>\n",
       "      <td>2003-05-01</td>\n",
       "      <td>1</td>\n",
       "      <td>Valve</td>\n",
       "      <td>Valve</td>\n",
       "      <td>windows;mac;linux</td>\n",
       "      <td>0</td>\n",
       "      <td>Multi-player;Valve Anti-Cheat enabled</td>\n",
       "      <td>Action</td>\n",
       "      <td>FPS;World War II;Multiplayer</td>\n",
       "      <td>0</td>\n",
       "      <td>3416</td>\n",
       "      <td>398</td>\n",
       "      <td>187</td>\n",
       "      <td>34</td>\n",
       "      <td>10000000</td>\n",
       "      <td>3.99</td>\n",
       "      <td>39900000.0</td>\n",
       "    </tr>\n",
       "    <tr>\n",
       "      <th>3</th>\n",
       "      <td>40</td>\n",
       "      <td>Deathmatch Classic</td>\n",
       "      <td>2001-06-01</td>\n",
       "      <td>1</td>\n",
       "      <td>Valve</td>\n",
       "      <td>Valve</td>\n",
       "      <td>windows;mac;linux</td>\n",
       "      <td>0</td>\n",
       "      <td>Multi-player;Online Multi-Player;Local Multi-P...</td>\n",
       "      <td>Action</td>\n",
       "      <td>Action;FPS;Multiplayer</td>\n",
       "      <td>0</td>\n",
       "      <td>1273</td>\n",
       "      <td>267</td>\n",
       "      <td>258</td>\n",
       "      <td>184</td>\n",
       "      <td>10000000</td>\n",
       "      <td>3.99</td>\n",
       "      <td>39900000.0</td>\n",
       "    </tr>\n",
       "    <tr>\n",
       "      <th>4</th>\n",
       "      <td>50</td>\n",
       "      <td>Half-Life: Opposing Force</td>\n",
       "      <td>1999-11-01</td>\n",
       "      <td>1</td>\n",
       "      <td>Gearbox Software</td>\n",
       "      <td>Valve</td>\n",
       "      <td>windows;mac;linux</td>\n",
       "      <td>0</td>\n",
       "      <td>Single-player;Multi-player;Valve Anti-Cheat en...</td>\n",
       "      <td>Action</td>\n",
       "      <td>FPS;Action;Sci-fi</td>\n",
       "      <td>0</td>\n",
       "      <td>5250</td>\n",
       "      <td>288</td>\n",
       "      <td>624</td>\n",
       "      <td>415</td>\n",
       "      <td>10000000</td>\n",
       "      <td>3.99</td>\n",
       "      <td>39900000.0</td>\n",
       "    </tr>\n",
       "  </tbody>\n",
       "</table>\n",
       "</div>"
      ],
      "text/plain": [
       "   appid                       name release_date  english         developer  \\\n",
       "0     10             Counter-Strike   2000-11-01        1             Valve   \n",
       "1     20      Team Fortress Classic   1999-04-01        1             Valve   \n",
       "2     30              Day of Defeat   2003-05-01        1             Valve   \n",
       "3     40         Deathmatch Classic   2001-06-01        1             Valve   \n",
       "4     50  Half-Life: Opposing Force   1999-11-01        1  Gearbox Software   \n",
       "\n",
       "  publisher          platforms  required_age  \\\n",
       "0     Valve  windows;mac;linux             0   \n",
       "1     Valve  windows;mac;linux             0   \n",
       "2     Valve  windows;mac;linux             0   \n",
       "3     Valve  windows;mac;linux             0   \n",
       "4     Valve  windows;mac;linux             0   \n",
       "\n",
       "                                          categories  genres  \\\n",
       "0  Multi-player;Online Multi-Player;Local Multi-P...  Action   \n",
       "1  Multi-player;Online Multi-Player;Local Multi-P...  Action   \n",
       "2              Multi-player;Valve Anti-Cheat enabled  Action   \n",
       "3  Multi-player;Online Multi-Player;Local Multi-P...  Action   \n",
       "4  Single-player;Multi-player;Valve Anti-Cheat en...  Action   \n",
       "\n",
       "                  steamspy_tags  achievements  positive_ratings  \\\n",
       "0        Action;FPS;Multiplayer             0            124534   \n",
       "1        Action;FPS;Multiplayer             0              3318   \n",
       "2  FPS;World War II;Multiplayer             0              3416   \n",
       "3        Action;FPS;Multiplayer             0              1273   \n",
       "4             FPS;Action;Sci-fi             0              5250   \n",
       "\n",
       "   negative_ratings  average_playtime  median_playtime    owners  price  \\\n",
       "0              3339             17612              317  20000000   7.19   \n",
       "1               633               277               62  10000000   3.99   \n",
       "2               398               187               34  10000000   3.99   \n",
       "3               267               258              184  10000000   3.99   \n",
       "4               288               624              415  10000000   3.99   \n",
       "\n",
       "       revenue  \n",
       "0  143800000.0  \n",
       "1   39900000.0  \n",
       "2   39900000.0  \n",
       "3   39900000.0  \n",
       "4   39900000.0  "
      ]
     },
     "execution_count": 6,
     "metadata": {},
     "output_type": "execute_result"
    }
   ],
   "source": [
    "df.head()"
   ]
  },
  {
   "cell_type": "code",
   "execution_count": 7,
   "id": "8811f539",
   "metadata": {},
   "outputs": [],
   "source": [
    "# The colums are having values separated with ;\n",
    "\n",
    "df['platforms'] = df['platforms'].str.split(';')\n",
    "df['categories'] = df['categories'].str.split(';')\n",
    "df['steamspy_tags'] = df['steamspy_tags'].str.split(';') # we achieve as list of values by removing ;"
   ]
  },
  {
   "cell_type": "code",
   "execution_count": 8,
   "id": "073bef9f",
   "metadata": {},
   "outputs": [],
   "source": [
    "df = df.explode('platforms')\n",
    "df = df.explode('categories')\n",
    "df = df.explode('steamspy_tags')\n"
   ]
  },
  {
   "cell_type": "code",
   "execution_count": 9,
   "id": "dacb1119",
   "metadata": {},
   "outputs": [
    {
     "data": {
      "text/html": [
       "<div>\n",
       "<style scoped>\n",
       "    .dataframe tbody tr th:only-of-type {\n",
       "        vertical-align: middle;\n",
       "    }\n",
       "\n",
       "    .dataframe tbody tr th {\n",
       "        vertical-align: top;\n",
       "    }\n",
       "\n",
       "    .dataframe thead th {\n",
       "        text-align: right;\n",
       "    }\n",
       "</style>\n",
       "<table border=\"1\" class=\"dataframe\">\n",
       "  <thead>\n",
       "    <tr style=\"text-align: right;\">\n",
       "      <th></th>\n",
       "      <th>appid</th>\n",
       "      <th>name</th>\n",
       "      <th>release_date</th>\n",
       "      <th>english</th>\n",
       "      <th>developer</th>\n",
       "      <th>publisher</th>\n",
       "      <th>platforms</th>\n",
       "      <th>required_age</th>\n",
       "      <th>categories</th>\n",
       "      <th>genres</th>\n",
       "      <th>steamspy_tags</th>\n",
       "      <th>achievements</th>\n",
       "      <th>positive_ratings</th>\n",
       "      <th>negative_ratings</th>\n",
       "      <th>average_playtime</th>\n",
       "      <th>median_playtime</th>\n",
       "      <th>owners</th>\n",
       "      <th>price</th>\n",
       "      <th>revenue</th>\n",
       "    </tr>\n",
       "  </thead>\n",
       "  <tbody>\n",
       "    <tr>\n",
       "      <th>0</th>\n",
       "      <td>10</td>\n",
       "      <td>Counter-Strike</td>\n",
       "      <td>2000-11-01</td>\n",
       "      <td>1</td>\n",
       "      <td>Valve</td>\n",
       "      <td>Valve</td>\n",
       "      <td>windows</td>\n",
       "      <td>0</td>\n",
       "      <td>Multi-player</td>\n",
       "      <td>Action</td>\n",
       "      <td>Action</td>\n",
       "      <td>0</td>\n",
       "      <td>124534</td>\n",
       "      <td>3339</td>\n",
       "      <td>17612</td>\n",
       "      <td>317</td>\n",
       "      <td>20000000</td>\n",
       "      <td>7.19</td>\n",
       "      <td>143800000.0</td>\n",
       "    </tr>\n",
       "    <tr>\n",
       "      <th>0</th>\n",
       "      <td>10</td>\n",
       "      <td>Counter-Strike</td>\n",
       "      <td>2000-11-01</td>\n",
       "      <td>1</td>\n",
       "      <td>Valve</td>\n",
       "      <td>Valve</td>\n",
       "      <td>windows</td>\n",
       "      <td>0</td>\n",
       "      <td>Multi-player</td>\n",
       "      <td>Action</td>\n",
       "      <td>FPS</td>\n",
       "      <td>0</td>\n",
       "      <td>124534</td>\n",
       "      <td>3339</td>\n",
       "      <td>17612</td>\n",
       "      <td>317</td>\n",
       "      <td>20000000</td>\n",
       "      <td>7.19</td>\n",
       "      <td>143800000.0</td>\n",
       "    </tr>\n",
       "    <tr>\n",
       "      <th>0</th>\n",
       "      <td>10</td>\n",
       "      <td>Counter-Strike</td>\n",
       "      <td>2000-11-01</td>\n",
       "      <td>1</td>\n",
       "      <td>Valve</td>\n",
       "      <td>Valve</td>\n",
       "      <td>windows</td>\n",
       "      <td>0</td>\n",
       "      <td>Multi-player</td>\n",
       "      <td>Action</td>\n",
       "      <td>Multiplayer</td>\n",
       "      <td>0</td>\n",
       "      <td>124534</td>\n",
       "      <td>3339</td>\n",
       "      <td>17612</td>\n",
       "      <td>317</td>\n",
       "      <td>20000000</td>\n",
       "      <td>7.19</td>\n",
       "      <td>143800000.0</td>\n",
       "    </tr>\n",
       "    <tr>\n",
       "      <th>0</th>\n",
       "      <td>10</td>\n",
       "      <td>Counter-Strike</td>\n",
       "      <td>2000-11-01</td>\n",
       "      <td>1</td>\n",
       "      <td>Valve</td>\n",
       "      <td>Valve</td>\n",
       "      <td>windows</td>\n",
       "      <td>0</td>\n",
       "      <td>Online Multi-Player</td>\n",
       "      <td>Action</td>\n",
       "      <td>Action</td>\n",
       "      <td>0</td>\n",
       "      <td>124534</td>\n",
       "      <td>3339</td>\n",
       "      <td>17612</td>\n",
       "      <td>317</td>\n",
       "      <td>20000000</td>\n",
       "      <td>7.19</td>\n",
       "      <td>143800000.0</td>\n",
       "    </tr>\n",
       "    <tr>\n",
       "      <th>0</th>\n",
       "      <td>10</td>\n",
       "      <td>Counter-Strike</td>\n",
       "      <td>2000-11-01</td>\n",
       "      <td>1</td>\n",
       "      <td>Valve</td>\n",
       "      <td>Valve</td>\n",
       "      <td>windows</td>\n",
       "      <td>0</td>\n",
       "      <td>Online Multi-Player</td>\n",
       "      <td>Action</td>\n",
       "      <td>FPS</td>\n",
       "      <td>0</td>\n",
       "      <td>124534</td>\n",
       "      <td>3339</td>\n",
       "      <td>17612</td>\n",
       "      <td>317</td>\n",
       "      <td>20000000</td>\n",
       "      <td>7.19</td>\n",
       "      <td>143800000.0</td>\n",
       "    </tr>\n",
       "  </tbody>\n",
       "</table>\n",
       "</div>"
      ],
      "text/plain": [
       "   appid            name release_date  english developer publisher platforms  \\\n",
       "0     10  Counter-Strike   2000-11-01        1     Valve     Valve   windows   \n",
       "0     10  Counter-Strike   2000-11-01        1     Valve     Valve   windows   \n",
       "0     10  Counter-Strike   2000-11-01        1     Valve     Valve   windows   \n",
       "0     10  Counter-Strike   2000-11-01        1     Valve     Valve   windows   \n",
       "0     10  Counter-Strike   2000-11-01        1     Valve     Valve   windows   \n",
       "\n",
       "   required_age           categories  genres steamspy_tags  achievements  \\\n",
       "0             0         Multi-player  Action        Action             0   \n",
       "0             0         Multi-player  Action           FPS             0   \n",
       "0             0         Multi-player  Action   Multiplayer             0   \n",
       "0             0  Online Multi-Player  Action        Action             0   \n",
       "0             0  Online Multi-Player  Action           FPS             0   \n",
       "\n",
       "   positive_ratings  negative_ratings  average_playtime  median_playtime  \\\n",
       "0            124534              3339             17612              317   \n",
       "0            124534              3339             17612              317   \n",
       "0            124534              3339             17612              317   \n",
       "0            124534              3339             17612              317   \n",
       "0            124534              3339             17612              317   \n",
       "\n",
       "     owners  price      revenue  \n",
       "0  20000000   7.19  143800000.0  \n",
       "0  20000000   7.19  143800000.0  \n",
       "0  20000000   7.19  143800000.0  \n",
       "0  20000000   7.19  143800000.0  \n",
       "0  20000000   7.19  143800000.0  "
      ]
     },
     "execution_count": 9,
     "metadata": {},
     "output_type": "execute_result"
    }
   ],
   "source": [
    "df.head()"
   ]
  },
  {
   "cell_type": "code",
   "execution_count": 10,
   "id": "d38dcec5-75cb-48cd-93c0-4e578de6c0ea",
   "metadata": {},
   "outputs": [
    {
     "data": {
      "text/plain": [
       "array(['windows', 'mac', 'linux'], dtype=object)"
      ]
     },
     "execution_count": 10,
     "metadata": {},
     "output_type": "execute_result"
    }
   ],
   "source": [
    "# Q1 : what platforms are present in the data\n",
    "# expected answer : ['windows', 'mac', 'linux']\n",
    "df['platforms'].unique()"
   ]
  },
  {
   "cell_type": "code",
   "execution_count": 121,
   "id": "e96e5718-80f2-4661-a4fa-4f62bf733c2c",
   "metadata": {},
   "outputs": [
    {
     "data": {
      "text/plain": [
       "windows    27070\n",
       "mac         8066\n",
       "linux       5235\n",
       "dtype: int64"
      ]
     },
     "execution_count": 121,
     "metadata": {},
     "output_type": "execute_result"
    }
   ],
   "source": [
    "# Q2 CEO:  which platform has most no of games\n",
    "\n",
    "# Answer : windows has maximum no of titles "
   ]
  },
  {
   "cell_type": "code",
   "execution_count": 11,
   "id": "1930539f",
   "metadata": {},
   "outputs": [
    {
     "data": {
      "text/plain": [
       "platforms\n",
       "windows    262009\n",
       "mac         95790\n",
       "linux       68050\n",
       "Name: count, dtype: int64"
      ]
     },
     "execution_count": 11,
     "metadata": {},
     "output_type": "execute_result"
    }
   ],
   "source": [
    "df['platforms'].value_counts()"
   ]
  },
  {
   "cell_type": "code",
   "execution_count": 14,
   "id": "07eab72f-6a98-4a81-bd2e-1aec3213ab0f",
   "metadata": {},
   "outputs": [
    {
     "data": {
      "text/plain": [
       "111212"
      ]
     },
     "execution_count": 14,
     "metadata": {},
     "output_type": "execute_result"
    }
   ],
   "source": [
    "# Q3 CEO:  which category has most no of games\n",
    "df['categories'].value_counts()[0]"
   ]
  },
  {
   "cell_type": "code",
   "execution_count": 25,
   "id": "49437d45",
   "metadata": {},
   "outputs": [
    {
     "data": {
      "text/plain": [
       "'Single-player'"
      ]
     },
     "execution_count": 25,
     "metadata": {},
     "output_type": "execute_result"
    }
   ],
   "source": [
    "df['categories'].value_counts().idxmax()"
   ]
  },
  {
   "cell_type": "code",
   "execution_count": 26,
   "id": "378bc9a7",
   "metadata": {},
   "outputs": [
    {
     "data": {
      "text/plain": [
       "111212"
      ]
     },
     "execution_count": 26,
     "metadata": {},
     "output_type": "execute_result"
    }
   ],
   "source": [
    "df['categories'].value_counts().max()"
   ]
  },
  {
   "cell_type": "code",
   "execution_count": 21,
   "id": "4a0fd4b9-751f-4c1a-b956-21966b103e13",
   "metadata": {},
   "outputs": [],
   "source": [
    "# Q4  Which Category of games has the highest average play time.\n",
    "cat_average_playtime = df.groupby('categories')['average_playtime'].mean()"
   ]
  },
  {
   "cell_type": "code",
   "execution_count": 24,
   "id": "f786b947",
   "metadata": {},
   "outputs": [
    {
     "data": {
      "text/plain": [
       "categories\n",
       "Captions available             376.650931\n",
       "Co-op                          536.809452\n",
       "Commentary available           543.752941\n",
       "Cross-Platform Multiplayer     569.566715\n",
       "Full controller support        159.786512\n",
       "In-App Purchases               700.413320\n",
       "Includes Source SDK           1167.373272\n",
       "Includes level editor          428.096643\n",
       "Local Co-op                     95.027189\n",
       "Local Multi-Player             167.591624\n",
       "MMO                           1329.256711\n",
       "Mods                           449.400000\n",
       "Mods (require HL2)             948.000000\n",
       "Multi-player                   449.028777\n",
       "Online Co-op                   406.673759\n",
       "Online Multi-Player            338.079147\n",
       "Partial Controller Support     203.467973\n",
       "Shared/Split Screen            117.484481\n",
       "Single-player                  165.523559\n",
       "Stats                          279.796413\n",
       "Steam Achievements             186.884801\n",
       "Steam Cloud                    219.600596\n",
       "Steam Leaderboards             190.219666\n",
       "Steam Trading Cards            293.345952\n",
       "Steam Turn Notifications        97.224181\n",
       "Steam Workshop                 789.349509\n",
       "SteamVR Collectibles          1765.857143\n",
       "VR Support                     417.311838\n",
       "Valve Anti-Cheat enabled      2651.176796\n",
       "Name: average_playtime, dtype: float64"
      ]
     },
     "execution_count": 24,
     "metadata": {},
     "output_type": "execute_result"
    }
   ],
   "source": [
    "cat_average_playtime"
   ]
  },
  {
   "cell_type": "code",
   "execution_count": 22,
   "id": "bee2f6cc",
   "metadata": {},
   "outputs": [
    {
     "data": {
      "text/plain": [
       "2651.1767955801106"
      ]
     },
     "execution_count": 22,
     "metadata": {},
     "output_type": "execute_result"
    }
   ],
   "source": [
    "cat_average_playtime.max()"
   ]
  },
  {
   "cell_type": "code",
   "execution_count": 23,
   "id": "18857c93",
   "metadata": {},
   "outputs": [
    {
     "data": {
      "text/plain": [
       "'Valve Anti-Cheat enabled'"
      ]
     },
     "execution_count": 23,
     "metadata": {},
     "output_type": "execute_result"
    }
   ],
   "source": [
    "cat_average_playtime.idxmax()"
   ]
  },
  {
   "cell_type": "code",
   "execution_count": null,
   "id": "8e8f49f6",
   "metadata": {},
   "outputs": [],
   "source": []
  },
  {
   "cell_type": "code",
   "execution_count": 29,
   "id": "789f53ae-08b6-4265-b6d8-8b9925cb0bca",
   "metadata": {},
   "outputs": [
    {
     "data": {
      "text/plain": [
       "required_age\n",
       "0     415902\n",
       "18      5406\n",
       "16      3187\n",
       "12       939\n",
       "3        226\n",
       "7        189\n",
       "Name: count, dtype: int64"
      ]
     },
     "execution_count": 29,
     "metadata": {},
     "output_type": "execute_result"
    }
   ],
   "source": [
    "# Q5 how does age influence average play time?\n",
    "# which age has the highest\n",
    "# find out sum, average, min, max for average playtimes for different age groups\n",
    "df['required_age'].value_counts()"
   ]
  },
  {
   "cell_type": "code",
   "execution_count": 31,
   "id": "b085b157",
   "metadata": {},
   "outputs": [],
   "source": [
    "df['genres'] = df['genres'].str.split(';')\n",
    "df = df.explode('genres')"
   ]
  },
  {
   "cell_type": "code",
   "execution_count": 32,
   "id": "1bd97df6",
   "metadata": {},
   "outputs": [
    {
     "data": {
      "text/html": [
       "<div>\n",
       "<style scoped>\n",
       "    .dataframe tbody tr th:only-of-type {\n",
       "        vertical-align: middle;\n",
       "    }\n",
       "\n",
       "    .dataframe tbody tr th {\n",
       "        vertical-align: top;\n",
       "    }\n",
       "\n",
       "    .dataframe thead th {\n",
       "        text-align: right;\n",
       "    }\n",
       "</style>\n",
       "<table border=\"1\" class=\"dataframe\">\n",
       "  <thead>\n",
       "    <tr style=\"text-align: right;\">\n",
       "      <th></th>\n",
       "      <th>appid</th>\n",
       "      <th>name</th>\n",
       "      <th>release_date</th>\n",
       "      <th>english</th>\n",
       "      <th>developer</th>\n",
       "      <th>publisher</th>\n",
       "      <th>platforms</th>\n",
       "      <th>required_age</th>\n",
       "      <th>categories</th>\n",
       "      <th>genres</th>\n",
       "      <th>steamspy_tags</th>\n",
       "      <th>achievements</th>\n",
       "      <th>positive_ratings</th>\n",
       "      <th>negative_ratings</th>\n",
       "      <th>average_playtime</th>\n",
       "      <th>median_playtime</th>\n",
       "      <th>owners</th>\n",
       "      <th>price</th>\n",
       "      <th>revenue</th>\n",
       "    </tr>\n",
       "  </thead>\n",
       "  <tbody>\n",
       "    <tr>\n",
       "      <th>0</th>\n",
       "      <td>10</td>\n",
       "      <td>Counter-Strike</td>\n",
       "      <td>2000-11-01</td>\n",
       "      <td>1</td>\n",
       "      <td>Valve</td>\n",
       "      <td>Valve</td>\n",
       "      <td>windows</td>\n",
       "      <td>0</td>\n",
       "      <td>Multi-player</td>\n",
       "      <td>Action</td>\n",
       "      <td>Action</td>\n",
       "      <td>0</td>\n",
       "      <td>124534</td>\n",
       "      <td>3339</td>\n",
       "      <td>17612</td>\n",
       "      <td>317</td>\n",
       "      <td>20000000</td>\n",
       "      <td>7.19</td>\n",
       "      <td>143800000.0</td>\n",
       "    </tr>\n",
       "    <tr>\n",
       "      <th>0</th>\n",
       "      <td>10</td>\n",
       "      <td>Counter-Strike</td>\n",
       "      <td>2000-11-01</td>\n",
       "      <td>1</td>\n",
       "      <td>Valve</td>\n",
       "      <td>Valve</td>\n",
       "      <td>windows</td>\n",
       "      <td>0</td>\n",
       "      <td>Multi-player</td>\n",
       "      <td>Action</td>\n",
       "      <td>FPS</td>\n",
       "      <td>0</td>\n",
       "      <td>124534</td>\n",
       "      <td>3339</td>\n",
       "      <td>17612</td>\n",
       "      <td>317</td>\n",
       "      <td>20000000</td>\n",
       "      <td>7.19</td>\n",
       "      <td>143800000.0</td>\n",
       "    </tr>\n",
       "    <tr>\n",
       "      <th>0</th>\n",
       "      <td>10</td>\n",
       "      <td>Counter-Strike</td>\n",
       "      <td>2000-11-01</td>\n",
       "      <td>1</td>\n",
       "      <td>Valve</td>\n",
       "      <td>Valve</td>\n",
       "      <td>windows</td>\n",
       "      <td>0</td>\n",
       "      <td>Multi-player</td>\n",
       "      <td>Action</td>\n",
       "      <td>Multiplayer</td>\n",
       "      <td>0</td>\n",
       "      <td>124534</td>\n",
       "      <td>3339</td>\n",
       "      <td>17612</td>\n",
       "      <td>317</td>\n",
       "      <td>20000000</td>\n",
       "      <td>7.19</td>\n",
       "      <td>143800000.0</td>\n",
       "    </tr>\n",
       "    <tr>\n",
       "      <th>0</th>\n",
       "      <td>10</td>\n",
       "      <td>Counter-Strike</td>\n",
       "      <td>2000-11-01</td>\n",
       "      <td>1</td>\n",
       "      <td>Valve</td>\n",
       "      <td>Valve</td>\n",
       "      <td>windows</td>\n",
       "      <td>0</td>\n",
       "      <td>Online Multi-Player</td>\n",
       "      <td>Action</td>\n",
       "      <td>Action</td>\n",
       "      <td>0</td>\n",
       "      <td>124534</td>\n",
       "      <td>3339</td>\n",
       "      <td>17612</td>\n",
       "      <td>317</td>\n",
       "      <td>20000000</td>\n",
       "      <td>7.19</td>\n",
       "      <td>143800000.0</td>\n",
       "    </tr>\n",
       "    <tr>\n",
       "      <th>0</th>\n",
       "      <td>10</td>\n",
       "      <td>Counter-Strike</td>\n",
       "      <td>2000-11-01</td>\n",
       "      <td>1</td>\n",
       "      <td>Valve</td>\n",
       "      <td>Valve</td>\n",
       "      <td>windows</td>\n",
       "      <td>0</td>\n",
       "      <td>Online Multi-Player</td>\n",
       "      <td>Action</td>\n",
       "      <td>FPS</td>\n",
       "      <td>0</td>\n",
       "      <td>124534</td>\n",
       "      <td>3339</td>\n",
       "      <td>17612</td>\n",
       "      <td>317</td>\n",
       "      <td>20000000</td>\n",
       "      <td>7.19</td>\n",
       "      <td>143800000.0</td>\n",
       "    </tr>\n",
       "    <tr>\n",
       "      <th>...</th>\n",
       "      <td>...</td>\n",
       "      <td>...</td>\n",
       "      <td>...</td>\n",
       "      <td>...</td>\n",
       "      <td>...</td>\n",
       "      <td>...</td>\n",
       "      <td>...</td>\n",
       "      <td>...</td>\n",
       "      <td>...</td>\n",
       "      <td>...</td>\n",
       "      <td>...</td>\n",
       "      <td>...</td>\n",
       "      <td>...</td>\n",
       "      <td>...</td>\n",
       "      <td>...</td>\n",
       "      <td>...</td>\n",
       "      <td>...</td>\n",
       "      <td>...</td>\n",
       "      <td>...</td>\n",
       "    </tr>\n",
       "    <tr>\n",
       "      <th>27074</th>\n",
       "      <td>1069460</td>\n",
       "      <td>Rune Lord</td>\n",
       "      <td>2019-04-24</td>\n",
       "      <td>1</td>\n",
       "      <td>Adept Studios GD</td>\n",
       "      <td>Alawar Entertainment</td>\n",
       "      <td>mac</td>\n",
       "      <td>0</td>\n",
       "      <td>Steam Cloud</td>\n",
       "      <td>Casual</td>\n",
       "      <td>Casual</td>\n",
       "      <td>0</td>\n",
       "      <td>4</td>\n",
       "      <td>0</td>\n",
       "      <td>0</td>\n",
       "      <td>0</td>\n",
       "      <td>20000</td>\n",
       "      <td>5.19</td>\n",
       "      <td>103800.0</td>\n",
       "    </tr>\n",
       "    <tr>\n",
       "      <th>27074</th>\n",
       "      <td>1069460</td>\n",
       "      <td>Rune Lord</td>\n",
       "      <td>2019-04-24</td>\n",
       "      <td>1</td>\n",
       "      <td>Adept Studios GD</td>\n",
       "      <td>Alawar Entertainment</td>\n",
       "      <td>mac</td>\n",
       "      <td>0</td>\n",
       "      <td>Steam Cloud</td>\n",
       "      <td>Indie</td>\n",
       "      <td>Casual</td>\n",
       "      <td>0</td>\n",
       "      <td>4</td>\n",
       "      <td>0</td>\n",
       "      <td>0</td>\n",
       "      <td>0</td>\n",
       "      <td>20000</td>\n",
       "      <td>5.19</td>\n",
       "      <td>103800.0</td>\n",
       "    </tr>\n",
       "    <tr>\n",
       "      <th>27074</th>\n",
       "      <td>1069460</td>\n",
       "      <td>Rune Lord</td>\n",
       "      <td>2019-04-24</td>\n",
       "      <td>1</td>\n",
       "      <td>Adept Studios GD</td>\n",
       "      <td>Alawar Entertainment</td>\n",
       "      <td>mac</td>\n",
       "      <td>0</td>\n",
       "      <td>Steam Cloud</td>\n",
       "      <td>Adventure</td>\n",
       "      <td>Adventure</td>\n",
       "      <td>0</td>\n",
       "      <td>4</td>\n",
       "      <td>0</td>\n",
       "      <td>0</td>\n",
       "      <td>0</td>\n",
       "      <td>20000</td>\n",
       "      <td>5.19</td>\n",
       "      <td>103800.0</td>\n",
       "    </tr>\n",
       "    <tr>\n",
       "      <th>27074</th>\n",
       "      <td>1069460</td>\n",
       "      <td>Rune Lord</td>\n",
       "      <td>2019-04-24</td>\n",
       "      <td>1</td>\n",
       "      <td>Adept Studios GD</td>\n",
       "      <td>Alawar Entertainment</td>\n",
       "      <td>mac</td>\n",
       "      <td>0</td>\n",
       "      <td>Steam Cloud</td>\n",
       "      <td>Casual</td>\n",
       "      <td>Adventure</td>\n",
       "      <td>0</td>\n",
       "      <td>4</td>\n",
       "      <td>0</td>\n",
       "      <td>0</td>\n",
       "      <td>0</td>\n",
       "      <td>20000</td>\n",
       "      <td>5.19</td>\n",
       "      <td>103800.0</td>\n",
       "    </tr>\n",
       "    <tr>\n",
       "      <th>27074</th>\n",
       "      <td>1069460</td>\n",
       "      <td>Rune Lord</td>\n",
       "      <td>2019-04-24</td>\n",
       "      <td>1</td>\n",
       "      <td>Adept Studios GD</td>\n",
       "      <td>Alawar Entertainment</td>\n",
       "      <td>mac</td>\n",
       "      <td>0</td>\n",
       "      <td>Steam Cloud</td>\n",
       "      <td>Indie</td>\n",
       "      <td>Adventure</td>\n",
       "      <td>0</td>\n",
       "      <td>4</td>\n",
       "      <td>0</td>\n",
       "      <td>0</td>\n",
       "      <td>0</td>\n",
       "      <td>20000</td>\n",
       "      <td>5.19</td>\n",
       "      <td>103800.0</td>\n",
       "    </tr>\n",
       "  </tbody>\n",
       "</table>\n",
       "<p>1240080 rows × 19 columns</p>\n",
       "</div>"
      ],
      "text/plain": [
       "         appid            name release_date  english         developer  \\\n",
       "0           10  Counter-Strike   2000-11-01        1             Valve   \n",
       "0           10  Counter-Strike   2000-11-01        1             Valve   \n",
       "0           10  Counter-Strike   2000-11-01        1             Valve   \n",
       "0           10  Counter-Strike   2000-11-01        1             Valve   \n",
       "0           10  Counter-Strike   2000-11-01        1             Valve   \n",
       "...        ...             ...          ...      ...               ...   \n",
       "27074  1069460       Rune Lord   2019-04-24        1  Adept Studios GD   \n",
       "27074  1069460       Rune Lord   2019-04-24        1  Adept Studios GD   \n",
       "27074  1069460       Rune Lord   2019-04-24        1  Adept Studios GD   \n",
       "27074  1069460       Rune Lord   2019-04-24        1  Adept Studios GD   \n",
       "27074  1069460       Rune Lord   2019-04-24        1  Adept Studios GD   \n",
       "\n",
       "                  publisher platforms  required_age           categories  \\\n",
       "0                     Valve   windows             0         Multi-player   \n",
       "0                     Valve   windows             0         Multi-player   \n",
       "0                     Valve   windows             0         Multi-player   \n",
       "0                     Valve   windows             0  Online Multi-Player   \n",
       "0                     Valve   windows             0  Online Multi-Player   \n",
       "...                     ...       ...           ...                  ...   \n",
       "27074  Alawar Entertainment       mac             0          Steam Cloud   \n",
       "27074  Alawar Entertainment       mac             0          Steam Cloud   \n",
       "27074  Alawar Entertainment       mac             0          Steam Cloud   \n",
       "27074  Alawar Entertainment       mac             0          Steam Cloud   \n",
       "27074  Alawar Entertainment       mac             0          Steam Cloud   \n",
       "\n",
       "          genres steamspy_tags  achievements  positive_ratings  \\\n",
       "0         Action        Action             0            124534   \n",
       "0         Action           FPS             0            124534   \n",
       "0         Action   Multiplayer             0            124534   \n",
       "0         Action        Action             0            124534   \n",
       "0         Action           FPS             0            124534   \n",
       "...          ...           ...           ...               ...   \n",
       "27074     Casual        Casual             0                 4   \n",
       "27074      Indie        Casual             0                 4   \n",
       "27074  Adventure     Adventure             0                 4   \n",
       "27074     Casual     Adventure             0                 4   \n",
       "27074      Indie     Adventure             0                 4   \n",
       "\n",
       "       negative_ratings  average_playtime  median_playtime    owners  price  \\\n",
       "0                  3339             17612              317  20000000   7.19   \n",
       "0                  3339             17612              317  20000000   7.19   \n",
       "0                  3339             17612              317  20000000   7.19   \n",
       "0                  3339             17612              317  20000000   7.19   \n",
       "0                  3339             17612              317  20000000   7.19   \n",
       "...                 ...               ...              ...       ...    ...   \n",
       "27074                 0                 0                0     20000   5.19   \n",
       "27074                 0                 0                0     20000   5.19   \n",
       "27074                 0                 0                0     20000   5.19   \n",
       "27074                 0                 0                0     20000   5.19   \n",
       "27074                 0                 0                0     20000   5.19   \n",
       "\n",
       "           revenue  \n",
       "0      143800000.0  \n",
       "0      143800000.0  \n",
       "0      143800000.0  \n",
       "0      143800000.0  \n",
       "0      143800000.0  \n",
       "...            ...  \n",
       "27074     103800.0  \n",
       "27074     103800.0  \n",
       "27074     103800.0  \n",
       "27074     103800.0  \n",
       "27074     103800.0  \n",
       "\n",
       "[1240080 rows x 19 columns]"
      ]
     },
     "execution_count": 32,
     "metadata": {},
     "output_type": "execute_result"
    }
   ],
   "source": [
    "df"
   ]
  },
  {
   "cell_type": "code",
   "execution_count": 35,
   "id": "8c0fef52-6a82-4d75-9b37-e185666c9e5b",
   "metadata": {},
   "outputs": [],
   "source": [
    "# Q6 Find out the most frequent platform among the top 5 profitable games.\n",
    "top_revenue_gen_games = df.sort_values(by='revenue',ascending=False).head(5)"
   ]
  },
  {
   "cell_type": "code",
   "execution_count": 39,
   "id": "15200290-d013-4a12-b0bc-1b3d66ea6f5e",
   "metadata": {},
   "outputs": [
    {
     "data": {
      "text/plain": [
       "'windows'"
      ]
     },
     "execution_count": 39,
     "metadata": {},
     "output_type": "execute_result"
    }
   ],
   "source": [
    "top_revenue_gen_games['platforms'].mode()[0]"
   ]
  },
  {
   "cell_type": "code",
   "execution_count": 43,
   "id": "82729c43",
   "metadata": {},
   "outputs": [],
   "source": [
    "# Q7 what is the optimal age restriction to make highest profit profitable game ?\n",
    "age_revenue = df.groupby('required_age')['revenue'].sum()"
   ]
  },
  {
   "cell_type": "code",
   "execution_count": 45,
   "id": "5d9587d0-be48-4d73-b00c-be1b7925cc09",
   "metadata": {},
   "outputs": [
    {
     "data": {
      "text/plain": [
       "2786260241800.0"
      ]
     },
     "execution_count": 45,
     "metadata": {},
     "output_type": "execute_result"
    }
   ],
   "source": [
    "age_revenue.max()"
   ]
  },
  {
   "cell_type": "code",
   "execution_count": 46,
   "id": "842135f5",
   "metadata": {},
   "outputs": [
    {
     "data": {
      "text/plain": [
       "0"
      ]
     },
     "execution_count": 46,
     "metadata": {},
     "output_type": "execute_result"
    }
   ],
   "source": [
    "age_revenue.idxmax()"
   ]
  },
  {
   "cell_type": "markdown",
   "id": "1367bad8-0ec1-4b85-b5fe-b0d972844678",
   "metadata": {},
   "source": [
    "# ChatGPT qns \n",
    "# Beginner-Level (Basic Understanding):"
   ]
  },
  {
   "cell_type": "code",
   "execution_count": 48,
   "id": "4dfa8144-1127-4548-bfb8-35c05d27aea8",
   "metadata": {},
   "outputs": [
    {
     "data": {
      "text/plain": [
       "27033"
      ]
     },
     "execution_count": 48,
     "metadata": {},
     "output_type": "execute_result"
    }
   ],
   "source": [
    "# 1. How many games are in the dataset?\n",
    "# 2. What are the names of the first 5 games in the dataset?\n",
    "# 3. How many games are in English ?\n",
    "# 4. What is the average price of the games in the dataset ?\n",
    "# 5. Which game has the highest number of positive ratings?\n",
    "df['name'].nunique()\n"
   ]
  },
  {
   "cell_type": "code",
   "execution_count": 51,
   "id": "de2d9d43",
   "metadata": {},
   "outputs": [
    {
     "data": {
      "text/plain": [
       "1240080"
      ]
     },
     "execution_count": 51,
     "metadata": {},
     "output_type": "execute_result"
    }
   ],
   "source": [
    "# 1. How many games are in the dataset?\n",
    "f.shape[0]"
   ]
  },
  {
   "cell_type": "code",
   "execution_count": 52,
   "id": "b989c274-ba95-4f73-a132-58d6cd174d29",
   "metadata": {
    "scrolled": true
   },
   "outputs": [
    {
     "data": {
      "text/plain": [
       "0    Counter-Strike\n",
       "0    Counter-Strike\n",
       "0    Counter-Strike\n",
       "0    Counter-Strike\n",
       "0    Counter-Strike\n",
       "Name: name, dtype: object"
      ]
     },
     "execution_count": 52,
     "metadata": {},
     "output_type": "execute_result"
    }
   ],
   "source": [
    "# 2. What are the names of the first 5 games in the dataset?\n",
    "df['name'].head()\n"
   ]
  },
  {
   "cell_type": "code",
   "execution_count": 58,
   "id": "8d39352c-6d0f-4d96-a9fb-5ca073f2233d",
   "metadata": {},
   "outputs": [
    {
     "data": {
      "text/plain": [
       "1229027"
      ]
     },
     "execution_count": 58,
     "metadata": {},
     "output_type": "execute_result"
    }
   ],
   "source": [
    "# 3. How many games are in English?\n",
    "df[df['english']==1].shape[0]"
   ]
  },
  {
   "cell_type": "code",
   "execution_count": 59,
   "id": "cbb08af7-2c85-4d27-9ee0-355821904fd4",
   "metadata": {},
   "outputs": [
    {
     "data": {
      "text/plain": [
       "6.712173924262952"
      ]
     },
     "execution_count": 59,
     "metadata": {},
     "output_type": "execute_result"
    }
   ],
   "source": [
    "# 4. What is the average price of the games in the dataset?\n",
    "df['price'].mean()"
   ]
  },
  {
   "cell_type": "code",
   "execution_count": 63,
   "id": "6de0c618-8f6d-497c-9d84-2b237855f9a9",
   "metadata": {},
   "outputs": [
    {
     "data": {
      "text/plain": [
       "appid                           10\n",
       "name                Counter-Strike\n",
       "release_date            2000-11-01\n",
       "english                          1\n",
       "developer                    Valve\n",
       "publisher                    Valve\n",
       "platforms                    linux\n",
       "required_age                     0\n",
       "categories            Multi-player\n",
       "genres                      Action\n",
       "steamspy_tags                  FPS\n",
       "achievements                     0\n",
       "positive_ratings            124534\n",
       "negative_ratings              3339\n",
       "average_playtime             17612\n",
       "median_playtime                317\n",
       "owners                    20000000\n",
       "price                         7.19\n",
       "revenue                143800000.0\n",
       "Name: 0, dtype: object"
      ]
     },
     "execution_count": 63,
     "metadata": {},
     "output_type": "execute_result"
    }
   ],
   "source": [
    "# 5. Which game has the highest number of positive ratings?\n",
    "#df['positive_ratings'].max()\n",
    "df.iloc[df['positive_ratings'].idxmax()]\n"
   ]
  },
  {
   "cell_type": "code",
   "execution_count": 66,
   "id": "c0dc1a55-c059-4a45-b3f4-7989529726c0",
   "metadata": {},
   "outputs": [
    {
     "data": {
      "text/plain": [
       "17112"
      ]
     },
     "execution_count": 66,
     "metadata": {},
     "output_type": "execute_result"
    }
   ],
   "source": [
    "# 6. How many unique developers are listed in the dataset?\n",
    "df['developer'].nunique()\n"
   ]
  },
  {
   "cell_type": "code",
   "execution_count": 67,
   "id": "1cadd140-9367-4b16-bfb0-d162201e0a96",
   "metadata": {},
   "outputs": [
    {
     "data": {
      "text/plain": [
       "0    windows\n",
       "Name: platforms, dtype: object"
      ]
     },
     "execution_count": 67,
     "metadata": {},
     "output_type": "execute_result"
    }
   ],
   "source": [
    "# 7. What is the most common platform for the games in this dataset?\n",
    "df['platforms'].mode()\n"
   ]
  },
  {
   "cell_type": "code",
   "execution_count": 70,
   "id": "e52513d0-359a-43ae-96ad-f8541b4c5ecc",
   "metadata": {},
   "outputs": [
    {
     "data": {
      "text/plain": [
       "13366"
      ]
     },
     "execution_count": 70,
     "metadata": {},
     "output_type": "execute_result"
    }
   ],
   "source": [
    "# 8. How many games have a required age of 18 or higher?\n",
    "df[df['required_age']>=18].shape[0]\n"
   ]
  },
  {
   "cell_type": "code",
   "execution_count": 72,
   "id": "dd840030-94e2-4593-9b9e-6b301e2d0bdb",
   "metadata": {},
   "outputs": [
    {
     "data": {
      "text/plain": [
       "3293890791500.0"
      ]
     },
     "execution_count": 72,
     "metadata": {},
     "output_type": "execute_result"
    }
   ],
   "source": [
    "# 9. What is the total revenue generated by all games in the dataset?\n",
    "df['revenue'].sum()\n"
   ]
  },
  {
   "cell_type": "code",
   "execution_count": 76,
   "id": "203c6267-1c36-4b36-ac57-15b33c0b2078",
   "metadata": {},
   "outputs": [
    {
     "data": {
      "text/plain": [
       "154746"
      ]
     },
     "execution_count": 76,
     "metadata": {},
     "output_type": "execute_result"
    }
   ],
   "source": [
    "# 10. How many games have more than 50 achievements?\n",
    "df[df['achievements']>50].shape[0]"
   ]
  },
  {
   "cell_type": "code",
   "execution_count": 130,
   "id": "791a08d6-e535-4ade-8516-ed22b03c2d3c",
   "metadata": {},
   "outputs": [
    {
     "data": {
      "text/plain": [
       "Index(['appid', 'name', 'release_date', 'english', 'developer', 'publisher',\n",
       "       'platforms', 'required_age', 'categories', 'genres', 'steamspy_tags',\n",
       "       'achievements', 'positive_ratings', 'negative_ratings',\n",
       "       'average_playtime', 'median_playtime', 'owners', 'price', 'revenue'],\n",
       "      dtype='object')"
      ]
     },
     "execution_count": 130,
     "metadata": {},
     "output_type": "execute_result"
    }
   ],
   "source": [
    "df.columns"
   ]
  },
  {
   "cell_type": "markdown",
   "id": "98d9d43b-db4d-4337-8d99-c8803bfd3502",
   "metadata": {},
   "source": [
    "# Intermediate-Level (Deeper Insights):"
   ]
  },
  {
   "cell_type": "code",
   "execution_count": 77,
   "id": "27f0c7c1",
   "metadata": {},
   "outputs": [],
   "source": [
    "import matplotlib.pyplot as plt\n",
    "import seaborn as sns"
   ]
  },
  {
   "cell_type": "code",
   "execution_count": 129,
   "id": "c463e964-6e2f-488c-8c20-e1e2c56d56b2",
   "metadata": {},
   "outputs": [
    {
     "data": {
      "text/plain": [
       "1.0"
      ]
     },
     "execution_count": 129,
     "metadata": {},
     "output_type": "execute_result"
    }
   ],
   "source": [
    "# 1. What is the correlation between the price of a game and its positive ratings?\n",
    "df['price'].corr(df['price'])\n",
    "\n"
   ]
  },
  {
   "cell_type": "code",
   "execution_count": 88,
   "id": "8a2850f1-58d5-4eb6-a138-e6df2549c5a4",
   "metadata": {},
   "outputs": [
    {
     "data": {
      "text/plain": [
       "294"
      ]
     },
     "execution_count": 88,
     "metadata": {},
     "output_type": "execute_result"
    }
   ],
   "source": [
    "# 2. How many games are published by the publisher \"Indie Voyage\"?\n",
    "df[df['publisher']=='Indie Voyage'].shape[0]"
   ]
  },
  {
   "cell_type": "code",
   "execution_count": 131,
   "id": "7b65aff8-4538-439d-b0a0-b9b49556154c",
   "metadata": {},
   "outputs": [
    {
     "data": {
      "text/plain": [
       "113.0"
      ]
     },
     "execution_count": 131,
     "metadata": {},
     "output_type": "execute_result"
    }
   ],
   "source": [
    "# 3. What is the median playtime for games that have over 100 positive ratings?\n",
    "df[df['positive_ratings']>100]['median_playtime'].median()"
   ]
  },
  {
   "cell_type": "code",
   "execution_count": 133,
   "id": "c716ec99-3d20-4927-98c4-9c87a6f9ffa3",
   "metadata": {},
   "outputs": [
    {
     "data": {
      "text/plain": [
       "951068"
      ]
     },
     "execution_count": 133,
     "metadata": {},
     "output_type": "execute_result"
    }
   ],
   "source": [
    "# 4. What percentage of games have at least 1 Steam achievement?\n",
    "df[df['achievements']>0].shape[0]\n"
   ]
  },
  {
   "cell_type": "code",
   "execution_count": 134,
   "id": "947b9b2c",
   "metadata": {},
   "outputs": [
    {
     "data": {
      "text/plain": [
       "76.69408425262885"
      ]
     },
     "execution_count": 134,
     "metadata": {},
     "output_type": "execute_result"
    }
   ],
   "source": [
    "(df[df['achievements']>0].shape[0]/df.shape[0])*100"
   ]
  },
  {
   "cell_type": "code",
   "execution_count": null,
   "id": "37dbfad1",
   "metadata": {},
   "outputs": [],
   "source": []
  },
  {
   "cell_type": "code",
   "execution_count": 109,
   "id": "981f9906-370a-4554-9960-4e93a434fd95",
   "metadata": {},
   "outputs": [
    {
     "data": {
      "text/plain": [
       "213752"
      ]
     },
     "execution_count": 109,
     "metadata": {},
     "output_type": "execute_result"
    }
   ],
   "source": [
    "# 5. How many games are classified under the \"Action\" genre?\n",
    "df[df['genres']=='Action'].shape[0]\n"
   ]
  },
  {
   "cell_type": "code",
   "execution_count": 112,
   "id": "fe5388f0-4996-4da7-ab13-e181d62fc7c4",
   "metadata": {},
   "outputs": [],
   "source": [
    "# 6. What is the average number of negative ratings for games with over 10,000 owners?\n",
    "neg_rat = df[df['owners']>10000]\n"
   ]
  },
  {
   "cell_type": "code",
   "execution_count": 113,
   "id": "7b2bcef8",
   "metadata": {},
   "outputs": [
    {
     "data": {
      "text/plain": [
       "419.96281530223854"
      ]
     },
     "execution_count": 113,
     "metadata": {},
     "output_type": "execute_result"
    }
   ],
   "source": [
    "neg_rat['negative_ratings'].mean()"
   ]
  },
  {
   "cell_type": "code",
   "execution_count": 135,
   "id": "928ca8b7",
   "metadata": {},
   "outputs": [
    {
     "data": {
      "text/plain": [
       "419.96281530223854"
      ]
     },
     "execution_count": 135,
     "metadata": {},
     "output_type": "execute_result"
    }
   ],
   "source": [
    "df[df['owners']>10000]['negative_ratings'].mean()"
   ]
  },
  {
   "cell_type": "code",
   "execution_count": 137,
   "id": "6a1b37ee-7dc8-48b3-9d95-c830b0dfba4e",
   "metadata": {},
   "outputs": [
    {
     "data": {
      "text/plain": [
       "'Choice of Games'"
      ]
     },
     "execution_count": 137,
     "metadata": {},
     "output_type": "execute_result"
    }
   ],
   "source": [
    "# 7. Which developer has the most games listed in the dataset?\n",
    "df['developer'].value_counts().idxmax()"
   ]
  },
  {
   "cell_type": "code",
   "execution_count": 140,
   "id": "e8e1dfd4",
   "metadata": {},
   "outputs": [
    {
     "data": {
      "text/plain": [
       "0    18\n",
       "Name: count, dtype: int64"
      ]
     },
     "execution_count": 140,
     "metadata": {},
     "output_type": "execute_result"
    }
   ],
   "source": [
    "df['developer'].value_counts()"
   ]
  },
  {
   "cell_type": "code",
   "execution_count": 138,
   "id": "b5953c65",
   "metadata": {},
   "outputs": [
    {
     "data": {
      "text/plain": [
       "8919"
      ]
     },
     "execution_count": 138,
     "metadata": {},
     "output_type": "execute_result"
    }
   ],
   "source": [
    "df['developer'].value_counts().max()"
   ]
  },
  {
   "cell_type": "code",
   "execution_count": 141,
   "id": "20fb91c4-f1e6-447a-becb-ad8c344b08cb",
   "metadata": {},
   "outputs": [
    {
     "data": {
      "text/plain": [
       "977.5184374164882"
      ]
     },
     "execution_count": 141,
     "metadata": {},
     "output_type": "execute_result"
    }
   ],
   "source": [
    "# 8. What is the average playtime for games with more than 500 positive ratings?\n",
    "df[df['positive_ratings']>500]['average_playtime'].mean()"
   ]
  },
  {
   "cell_type": "code",
   "execution_count": 124,
   "id": "728a0d00-dd28-443d-8814-b868c5ff8d8c",
   "metadata": {},
   "outputs": [
    {
     "data": {
      "text/plain": [
       "58866"
      ]
     },
     "execution_count": 124,
     "metadata": {},
     "output_type": "execute_result"
    }
   ],
   "source": [
    "# 9. How many games are tagged as \"Early Access\" in their steamspy_tags?\n",
    "df[df['steamspy_tags']=='Early Access'].shape[0]\n"
   ]
  },
  {
   "cell_type": "code",
   "execution_count": 128,
   "id": "84ea4616-b6ad-4610-b9b5-012ef22cb500",
   "metadata": {},
   "outputs": [
    {
     "data": {
      "text/plain": [
       "331831848000.0"
      ]
     },
     "execution_count": 128,
     "metadata": {},
     "output_type": "execute_result"
    }
   ],
   "source": [
    "# 10. What is the total revenue generated by games that have \"RPG\" in their genre?\n",
    "df[df['genres']=='RPG']['revenue'].sum()"
   ]
  },
  {
   "cell_type": "markdown",
   "id": "334097d5-f4e2-4f23-b1aa-753449a792dd",
   "metadata": {},
   "source": []
  },
  {
   "cell_type": "markdown",
   "id": "377e729e-cc84-4f21-901f-299e38d60de8",
   "metadata": {},
   "source": [
    "# Advanced-Level (Complex Analysis):"
   ]
  },
  {
   "cell_type": "code",
   "execution_count": 142,
   "id": "0a72d56f-f473-4f2d-99de-3ab1b7a5bb11",
   "metadata": {},
   "outputs": [
    {
     "data": {
      "text/plain": [
       "0.25118186216493693"
      ]
     },
     "execution_count": 142,
     "metadata": {},
     "output_type": "execute_result"
    }
   ],
   "source": [
    "# 1. What is the relationship between a game's price and its revenue? Is there a positive or negative correlation?\n",
    "df['price'].corr(df['revenue'])\n"
   ]
  },
  {
   "cell_type": "code",
   "execution_count": 143,
   "id": "b8dd4196",
   "metadata": {},
   "outputs": [],
   "source": [
    "import matplotlib.pyplot as plt"
   ]
  },
  {
   "cell_type": "code",
   "execution_count": 148,
   "id": "b8715c83",
   "metadata": {},
   "outputs": [
    {
     "data": {
      "image/png": "[encoded data removed]",
      "text/plain": [
       "<Figure size 640x480 with 1 Axes>"
      ]
     },
     "metadata": {},
     "output_type": "display_data"
    }
   ],
   "source": [
    "df.plot(kind='scatter', x='price', y='revenue', title='Price Vs Revenue')\n",
    "plt.show()"
   ]
  },
  {
   "cell_type": "code",
   "execution_count": 145,
   "id": "3cab871f",
   "metadata": {},
   "outputs": [
    {
     "data": {
      "image/png": "[encoded data removed]",
      "text/plain": [
       "<Figure size 640x480 with 1 Axes>"
      ]
     },
     "metadata": {},
     "output_type": "display_data"
    }
   ],
   "source": [
    "import seaborn as sns\n",
    "sns.scatterplot(x='price', y='revenue', data=df)\n",
    "plt.title('Price Vs Revenue')\n",
    "plt.show() # Positive relation"
   ]
  },
  {
   "cell_type": "code",
   "execution_count": 177,
   "id": "bdbcdec0-9f33-4935-8efe-1d75bcbe6b03",
   "metadata": {},
   "outputs": [],
   "source": [
    "# 2. What is the average number of positive ratings for games released before 2015 compared to those released after 2015?\n",
    "import datetime"
   ]
  },
  {
   "cell_type": "code",
   "execution_count": 178,
   "id": "4ddfa26a",
   "metadata": {},
   "outputs": [],
   "source": [
    "df['release_date'] = pd.to_datetime(df['release_date'])"
   ]
  },
  {
   "cell_type": "code",
   "execution_count": 179,
   "id": "dab80cc0",
   "metadata": {},
   "outputs": [],
   "source": [
    "df['release_year'] = df['release_date'].dt.year"
   ]
  },
  {
   "cell_type": "code",
   "execution_count": 180,
   "id": "b9577cce",
   "metadata": {},
   "outputs": [
    {
     "data": {
      "text/plain": [
       "0        2000\n",
       "0        2000\n",
       "0        2000\n",
       "0        2000\n",
       "0        2000\n",
       "         ... \n",
       "27074    2019\n",
       "27074    2019\n",
       "27074    2019\n",
       "27074    2019\n",
       "27074    2019\n",
       "Name: release_year, Length: 1240080, dtype: int32"
      ]
     },
     "execution_count": 180,
     "metadata": {},
     "output_type": "execute_result"
    }
   ],
   "source": [
    "df['release_year']"
   ]
  },
  {
   "cell_type": "code",
   "execution_count": 182,
   "id": "a1830ac0",
   "metadata": {},
   "outputs": [
    {
     "data": {
      "text/plain": [
       "10530.442742086292"
      ]
     },
     "execution_count": 182,
     "metadata": {},
     "output_type": "execute_result"
    }
   ],
   "source": [
    "df[df['release_year']<2015]['positive_ratings'].mean() # before 2015"
   ]
  },
  {
   "cell_type": "code",
   "execution_count": 184,
   "id": "4b8cf1d0",
   "metadata": {},
   "outputs": [
    {
     "data": {
      "text/plain": [
       "1301.71141040423"
      ]
     },
     "execution_count": 184,
     "metadata": {},
     "output_type": "execute_result"
    }
   ],
   "source": [
    "df[df['release_year']>=2015]['positive_ratings'].mean() # after 2015"
   ]
  },
  {
   "cell_type": "code",
   "execution_count": 188,
   "id": "9e3195a4-4af3-4069-b7e7-1db981e67ebc",
   "metadata": {},
   "outputs": [
    {
     "data": {
      "text/plain": [
       "genres\n",
       "Massively Multiplayer    7.066882e+06\n",
       "Web Publishing           5.400067e+06\n",
       "RPG                      4.429740e+06\n",
       "Action                   3.992250e+06\n",
       "Nudity                   3.970000e+06\n",
       "Name: revenue, dtype: float64"
      ]
     },
     "execution_count": 188,
     "metadata": {},
     "output_type": "execute_result"
    }
   ],
   "source": [
    "# 3. Find the top 5 genres that generate the highest average revenue.\n",
    "avg_high_rev = df.groupby('genres')['revenue'].mean()\n",
    "avg_high_rev.nlargest(5)\n",
    "\n"
   ]
  },
  {
   "cell_type": "code",
   "execution_count": 164,
   "id": "9bdbeec3-0ad9-4f18-90aa-f2ea5d50dddd",
   "metadata": {},
   "outputs": [
    {
     "data": {
      "text/plain": [
       "10.481265621563256"
      ]
     },
     "execution_count": 164,
     "metadata": {},
     "output_type": "execute_result"
    }
   ],
   "source": [
    "# 4. What is the average price for games with more than 50 achievements and more than 100 positive ratings?\n",
    "df[(df['achievements']>50) & (df['positive_ratings']>100)]['price'].mean()\n"
   ]
  },
  {
   "cell_type": "code",
   "execution_count": 165,
   "id": "4acc2dbd-27fa-40a4-9cad-797f0fb2de92",
   "metadata": {},
   "outputs": [
    {
     "data": {
      "text/plain": [
       "1240080"
      ]
     },
     "execution_count": 165,
     "metadata": {},
     "output_type": "execute_result"
    }
   ],
   "source": [
    "# 5. How many games are available on multiple platforms (e.g., Windows and another platform)?\n",
    "df.shape[0]\n"
   ]
  },
  {
   "cell_type": "code",
   "execution_count": 193,
   "id": "fafe399a-a32d-4fb5-bc5b-58ddd6a229f9",
   "metadata": {},
   "outputs": [
    {
     "data": {
      "text/plain": [
       "genres\n",
       "[Indie]                    41094\n",
       "[Action]                   36036\n",
       "[Adventure]                23685\n",
       "[Strategy]                 16542\n",
       "[RPG]                      15888\n",
       "[Simulation]               13002\n",
       "[Casual]                   10158\n",
       "[Free to Play]              7998\n",
       "[Massively Multiplayer]     4224\n",
       "[Early Access]              3885\n",
       "[Sports]                    2520\n",
       "[Racing]                    2394\n",
       "[Violent]                   1014\n",
       "[Gore]                       702\n",
       "[Nudity]                     666\n",
       "[Sexual Content]             498\n",
       "[Design & Illustration]       36\n",
       "[Utilities]                   34\n",
       "[Animation & Modeling]        24\n",
       "[Web Publishing]              24\n",
       "[Video Production]            12\n",
       "Name: count, dtype: int64"
      ]
     },
     "execution_count": 193,
     "metadata": {},
     "output_type": "execute_result"
    }
   ],
   "source": [
    "# 6. Which genre has the highest number of games with over 1,000 positive ratings?\n",
    "df[df['positive_ratings']>1000]['genres'].value_counts()\n"
   ]
  },
  {
   "cell_type": "code",
   "execution_count": 194,
   "id": "358472db",
   "metadata": {},
   "outputs": [
    {
     "data": {
      "text/plain": [
       "41094"
      ]
     },
     "execution_count": 194,
     "metadata": {},
     "output_type": "execute_result"
    }
   ],
   "source": [
    "df[df['positive_ratings']>1000]['genres'].value_counts().max()\n"
   ]
  },
  {
   "cell_type": "code",
   "execution_count": 195,
   "id": "c6751bb7",
   "metadata": {},
   "outputs": [
    {
     "data": {
      "text/plain": [
       "['Indie']"
      ]
     },
     "execution_count": 195,
     "metadata": {},
     "output_type": "execute_result"
    }
   ],
   "source": [
    "df[df['positive_ratings']>1000]['genres'].value_counts().idxmax()\n"
   ]
  },
  {
   "cell_type": "code",
   "execution_count": 197,
   "id": "01e2efff-8c4b-40e8-a556-23ee4669946e",
   "metadata": {},
   "outputs": [
    {
     "data": {
      "text/plain": [
       "186.0"
      ]
     },
     "execution_count": 197,
     "metadata": {},
     "output_type": "execute_result"
    }
   ],
   "source": [
    "# 7. For games with a price higher than $20, what is the median playtime compared to games priced under $20?\n",
    "df[df['price']>20]['median_playtime'].median()"
   ]
  },
  {
   "cell_type": "code",
   "execution_count": 198,
   "id": "977e36cb",
   "metadata": {},
   "outputs": [
    {
     "data": {
      "text/plain": [
       "0.0"
      ]
     },
     "execution_count": 198,
     "metadata": {},
     "output_type": "execute_result"
    }
   ],
   "source": [
    "df[df['price']<20]['median_playtime'].median()"
   ]
  },
  {
   "cell_type": "code",
   "execution_count": null,
   "id": "22b51675-628a-4b2c-9b92-cb8fd5b2ac64",
   "metadata": {},
   "outputs": [],
   "source": [
    "# 8. Build a model to predict the number of positive ratings based on features like price, release date, and genre.\n",
    "\n"
   ]
  },
  {
   "cell_type": "markdown",
   "id": "f26a9530",
   "metadata": {},
   "source": [
    "#### Model Buliding"
   ]
  },
  {
   "cell_type": "code",
   "execution_count": 201,
   "id": "02eeb8c8",
   "metadata": {},
   "outputs": [
    {
     "data": {
      "text/html": [
       "<div>\n",
       "<style scoped>\n",
       "    .dataframe tbody tr th:only-of-type {\n",
       "        vertical-align: middle;\n",
       "    }\n",
       "\n",
       "    .dataframe tbody tr th {\n",
       "        vertical-align: top;\n",
       "    }\n",
       "\n",
       "    .dataframe thead th {\n",
       "        text-align: right;\n",
       "    }\n",
       "</style>\n",
       "<table border=\"1\" class=\"dataframe\">\n",
       "  <thead>\n",
       "    <tr style=\"text-align: right;\">\n",
       "      <th></th>\n",
       "      <th>appid</th>\n",
       "      <th>name</th>\n",
       "      <th>release_date</th>\n",
       "      <th>english</th>\n",
       "      <th>developer</th>\n",
       "      <th>publisher</th>\n",
       "      <th>platforms</th>\n",
       "      <th>required_age</th>\n",
       "      <th>categories</th>\n",
       "      <th>genres</th>\n",
       "      <th>steamspy_tags</th>\n",
       "      <th>achievements</th>\n",
       "      <th>positive_ratings</th>\n",
       "      <th>negative_ratings</th>\n",
       "      <th>average_playtime</th>\n",
       "      <th>median_playtime</th>\n",
       "      <th>owners</th>\n",
       "      <th>price</th>\n",
       "      <th>revenue</th>\n",
       "      <th>release_year</th>\n",
       "    </tr>\n",
       "  </thead>\n",
       "  <tbody>\n",
       "    <tr>\n",
       "      <th>0</th>\n",
       "      <td>10</td>\n",
       "      <td>Counter-Strike</td>\n",
       "      <td>2000-11-01</td>\n",
       "      <td>1</td>\n",
       "      <td>Valve</td>\n",
       "      <td>Valve</td>\n",
       "      <td>[windows]</td>\n",
       "      <td>0</td>\n",
       "      <td>Multi-player</td>\n",
       "      <td>[Action]</td>\n",
       "      <td>Action</td>\n",
       "      <td>0</td>\n",
       "      <td>124534</td>\n",
       "      <td>3339</td>\n",
       "      <td>17612</td>\n",
       "      <td>317</td>\n",
       "      <td>20000000</td>\n",
       "      <td>7.19</td>\n",
       "      <td>143800000.0</td>\n",
       "      <td>2000</td>\n",
       "    </tr>\n",
       "    <tr>\n",
       "      <th>0</th>\n",
       "      <td>10</td>\n",
       "      <td>Counter-Strike</td>\n",
       "      <td>2000-11-01</td>\n",
       "      <td>1</td>\n",
       "      <td>Valve</td>\n",
       "      <td>Valve</td>\n",
       "      <td>[windows]</td>\n",
       "      <td>0</td>\n",
       "      <td>Multi-player</td>\n",
       "      <td>[Action]</td>\n",
       "      <td>FPS</td>\n",
       "      <td>0</td>\n",
       "      <td>124534</td>\n",
       "      <td>3339</td>\n",
       "      <td>17612</td>\n",
       "      <td>317</td>\n",
       "      <td>20000000</td>\n",
       "      <td>7.19</td>\n",
       "      <td>143800000.0</td>\n",
       "      <td>2000</td>\n",
       "    </tr>\n",
       "    <tr>\n",
       "      <th>0</th>\n",
       "      <td>10</td>\n",
       "      <td>Counter-Strike</td>\n",
       "      <td>2000-11-01</td>\n",
       "      <td>1</td>\n",
       "      <td>Valve</td>\n",
       "      <td>Valve</td>\n",
       "      <td>[windows]</td>\n",
       "      <td>0</td>\n",
       "      <td>Multi-player</td>\n",
       "      <td>[Action]</td>\n",
       "      <td>Multiplayer</td>\n",
       "      <td>0</td>\n",
       "      <td>124534</td>\n",
       "      <td>3339</td>\n",
       "      <td>17612</td>\n",
       "      <td>317</td>\n",
       "      <td>20000000</td>\n",
       "      <td>7.19</td>\n",
       "      <td>143800000.0</td>\n",
       "      <td>2000</td>\n",
       "    </tr>\n",
       "    <tr>\n",
       "      <th>0</th>\n",
       "      <td>10</td>\n",
       "      <td>Counter-Strike</td>\n",
       "      <td>2000-11-01</td>\n",
       "      <td>1</td>\n",
       "      <td>Valve</td>\n",
       "      <td>Valve</td>\n",
       "      <td>[windows]</td>\n",
       "      <td>0</td>\n",
       "      <td>Online Multi-Player</td>\n",
       "      <td>[Action]</td>\n",
       "      <td>Action</td>\n",
       "      <td>0</td>\n",
       "      <td>124534</td>\n",
       "      <td>3339</td>\n",
       "      <td>17612</td>\n",
       "      <td>317</td>\n",
       "      <td>20000000</td>\n",
       "      <td>7.19</td>\n",
       "      <td>143800000.0</td>\n",
       "      <td>2000</td>\n",
       "    </tr>\n",
       "    <tr>\n",
       "      <th>0</th>\n",
       "      <td>10</td>\n",
       "      <td>Counter-Strike</td>\n",
       "      <td>2000-11-01</td>\n",
       "      <td>1</td>\n",
       "      <td>Valve</td>\n",
       "      <td>Valve</td>\n",
       "      <td>[windows]</td>\n",
       "      <td>0</td>\n",
       "      <td>Online Multi-Player</td>\n",
       "      <td>[Action]</td>\n",
       "      <td>FPS</td>\n",
       "      <td>0</td>\n",
       "      <td>124534</td>\n",
       "      <td>3339</td>\n",
       "      <td>17612</td>\n",
       "      <td>317</td>\n",
       "      <td>20000000</td>\n",
       "      <td>7.19</td>\n",
       "      <td>143800000.0</td>\n",
       "      <td>2000</td>\n",
       "    </tr>\n",
       "  </tbody>\n",
       "</table>\n",
       "</div>"
      ],
      "text/plain": [
       "   appid            name release_date  english developer publisher  platforms  \\\n",
       "0     10  Counter-Strike   2000-11-01        1     Valve     Valve  [windows]   \n",
       "0     10  Counter-Strike   2000-11-01        1     Valve     Valve  [windows]   \n",
       "0     10  Counter-Strike   2000-11-01        1     Valve     Valve  [windows]   \n",
       "0     10  Counter-Strike   2000-11-01        1     Valve     Valve  [windows]   \n",
       "0     10  Counter-Strike   2000-11-01        1     Valve     Valve  [windows]   \n",
       "\n",
       "   required_age           categories    genres steamspy_tags  achievements  \\\n",
       "0             0         Multi-player  [Action]        Action             0   \n",
       "0             0         Multi-player  [Action]           FPS             0   \n",
       "0             0         Multi-player  [Action]   Multiplayer             0   \n",
       "0             0  Online Multi-Player  [Action]        Action             0   \n",
       "0             0  Online Multi-Player  [Action]           FPS             0   \n",
       "\n",
       "   positive_ratings  negative_ratings  average_playtime  median_playtime  \\\n",
       "0            124534              3339             17612              317   \n",
       "0            124534              3339             17612              317   \n",
       "0            124534              3339             17612              317   \n",
       "0            124534              3339             17612              317   \n",
       "0            124534              3339             17612              317   \n",
       "\n",
       "     owners  price      revenue  release_year  \n",
       "0  20000000   7.19  143800000.0          2000  \n",
       "0  20000000   7.19  143800000.0          2000  \n",
       "0  20000000   7.19  143800000.0          2000  \n",
       "0  20000000   7.19  143800000.0          2000  \n",
       "0  20000000   7.19  143800000.0          2000  "
      ]
     },
     "execution_count": 201,
     "metadata": {},
     "output_type": "execute_result"
    }
   ],
   "source": [
    "df.head()"
   ]
  },
  {
   "cell_type": "code",
   "execution_count": 241,
   "id": "f6bb0287",
   "metadata": {},
   "outputs": [],
   "source": [
    "df['release_date'] = pd.to_datetime(df['release_date'])"
   ]
  },
  {
   "cell_type": "code",
   "execution_count": 242,
   "id": "15b6f119",
   "metadata": {},
   "outputs": [],
   "source": [
    "df['release_year'] = df['release_date'].dt.year"
   ]
  },
  {
   "cell_type": "markdown",
   "id": "9b8e0070",
   "metadata": {},
   "source": [
    "#### Segregating the data"
   ]
  },
  {
   "cell_type": "code",
   "execution_count": 243,
   "id": "f804796f",
   "metadata": {},
   "outputs": [],
   "source": [
    "feature_var = df[['release_year','price','genres']]"
   ]
  },
  {
   "cell_type": "code",
   "execution_count": 244,
   "id": "52c10d13",
   "metadata": {},
   "outputs": [],
   "source": [
    "class_var = df['positive_ratings']"
   ]
  },
  {
   "cell_type": "code",
   "execution_count": 245,
   "id": "5b22460f",
   "metadata": {},
   "outputs": [
    {
     "data": {
      "text/html": [
       "<div>\n",
       "<style scoped>\n",
       "    .dataframe tbody tr th:only-of-type {\n",
       "        vertical-align: middle;\n",
       "    }\n",
       "\n",
       "    .dataframe tbody tr th {\n",
       "        vertical-align: top;\n",
       "    }\n",
       "\n",
       "    .dataframe thead th {\n",
       "        text-align: right;\n",
       "    }\n",
       "</style>\n",
       "<table border=\"1\" class=\"dataframe\">\n",
       "  <thead>\n",
       "    <tr style=\"text-align: right;\">\n",
       "      <th></th>\n",
       "      <th>release_year</th>\n",
       "      <th>price</th>\n",
       "      <th>genres</th>\n",
       "    </tr>\n",
       "  </thead>\n",
       "  <tbody>\n",
       "    <tr>\n",
       "      <th>0</th>\n",
       "      <td>2000</td>\n",
       "      <td>7.19</td>\n",
       "      <td>Action</td>\n",
       "    </tr>\n",
       "    <tr>\n",
       "      <th>1</th>\n",
       "      <td>1999</td>\n",
       "      <td>3.99</td>\n",
       "      <td>Action</td>\n",
       "    </tr>\n",
       "    <tr>\n",
       "      <th>2</th>\n",
       "      <td>2003</td>\n",
       "      <td>3.99</td>\n",
       "      <td>Action</td>\n",
       "    </tr>\n",
       "    <tr>\n",
       "      <th>3</th>\n",
       "      <td>2001</td>\n",
       "      <td>3.99</td>\n",
       "      <td>Action</td>\n",
       "    </tr>\n",
       "    <tr>\n",
       "      <th>4</th>\n",
       "      <td>1999</td>\n",
       "      <td>3.99</td>\n",
       "      <td>Action</td>\n",
       "    </tr>\n",
       "    <tr>\n",
       "      <th>...</th>\n",
       "      <td>...</td>\n",
       "      <td>...</td>\n",
       "      <td>...</td>\n",
       "    </tr>\n",
       "    <tr>\n",
       "      <th>27070</th>\n",
       "      <td>2019</td>\n",
       "      <td>2.09</td>\n",
       "      <td>Adventure;Casual;Indie</td>\n",
       "    </tr>\n",
       "    <tr>\n",
       "      <th>27071</th>\n",
       "      <td>2019</td>\n",
       "      <td>1.69</td>\n",
       "      <td>Action;Adventure;Indie</td>\n",
       "    </tr>\n",
       "    <tr>\n",
       "      <th>27072</th>\n",
       "      <td>2019</td>\n",
       "      <td>3.99</td>\n",
       "      <td>Action;Casual;Indie</td>\n",
       "    </tr>\n",
       "    <tr>\n",
       "      <th>27073</th>\n",
       "      <td>2019</td>\n",
       "      <td>5.19</td>\n",
       "      <td>Adventure;Casual;Indie</td>\n",
       "    </tr>\n",
       "    <tr>\n",
       "      <th>27074</th>\n",
       "      <td>2019</td>\n",
       "      <td>5.19</td>\n",
       "      <td>Adventure;Casual;Indie</td>\n",
       "    </tr>\n",
       "  </tbody>\n",
       "</table>\n",
       "<p>27075 rows × 3 columns</p>\n",
       "</div>"
      ],
      "text/plain": [
       "       release_year  price                  genres\n",
       "0              2000   7.19                  Action\n",
       "1              1999   3.99                  Action\n",
       "2              2003   3.99                  Action\n",
       "3              2001   3.99                  Action\n",
       "4              1999   3.99                  Action\n",
       "...             ...    ...                     ...\n",
       "27070          2019   2.09  Adventure;Casual;Indie\n",
       "27071          2019   1.69  Action;Adventure;Indie\n",
       "27072          2019   3.99     Action;Casual;Indie\n",
       "27073          2019   5.19  Adventure;Casual;Indie\n",
       "27074          2019   5.19  Adventure;Casual;Indie\n",
       "\n",
       "[27075 rows x 3 columns]"
      ]
     },
     "execution_count": 245,
     "metadata": {},
     "output_type": "execute_result"
    }
   ],
   "source": [
    "feature_var"
   ]
  },
  {
   "cell_type": "code",
   "execution_count": 222,
   "id": "701ac84e",
   "metadata": {},
   "outputs": [
    {
     "data": {
      "text/plain": [
       "(1240080,)"
      ]
     },
     "execution_count": 222,
     "metadata": {},
     "output_type": "execute_result"
    }
   ],
   "source": [
    "class_var.shape"
   ]
  },
  {
   "cell_type": "code",
   "execution_count": 246,
   "id": "2aada74e",
   "metadata": {},
   "outputs": [
    {
     "data": {
      "text/plain": [
       "0                          [Action]\n",
       "1                          [Action]\n",
       "2                          [Action]\n",
       "3                          [Action]\n",
       "4                          [Action]\n",
       "                    ...            \n",
       "27070    [Adventure, Casual, Indie]\n",
       "27071    [Action, Adventure, Indie]\n",
       "27072       [Action, Casual, Indie]\n",
       "27073    [Adventure, Casual, Indie]\n",
       "27074    [Adventure, Casual, Indie]\n",
       "Name: genres, Length: 27075, dtype: object"
      ]
     },
     "execution_count": 246,
     "metadata": {},
     "output_type": "execute_result"
    }
   ],
   "source": [
    "df['genres'].str.split(';')"
   ]
  },
  {
   "cell_type": "code",
   "execution_count": 248,
   "id": "59785630",
   "metadata": {},
   "outputs": [
    {
     "name": "stderr",
     "output_type": "stream",
     "text": [
      "C:\\Users\\GOLLA RAVI TEJA\\AppData\\Local\\Temp\\ipykernel_56292\\3074665831.py:1: SettingWithCopyWarning: \n",
      "A value is trying to be set on a copy of a slice from a DataFrame.\n",
      "Try using .loc[row_indexer,col_indexer] = value instead\n",
      "\n",
      "See the caveats in the documentation: https://pandas.pydata.org/pandas-docs/stable/user_guide/indexing.html#returning-a-view-versus-a-copy\n",
      "  feature_var['genres'] = feature_var['genres'].str.split(';')\n"
     ]
    }
   ],
   "source": [
    "feature_var['genres'] = feature_var['genres'].str.split(';')"
   ]
  },
  {
   "cell_type": "code",
   "execution_count": 251,
   "id": "dba4dd56",
   "metadata": {},
   "outputs": [
    {
     "ename": "ValueError",
     "evalue": "column must be a scalar, tuple, or list thereof",
     "output_type": "error",
     "traceback": [
      "\u001b[1;31m---------------------------------------------------------------------------\u001b[0m",
      "\u001b[1;31mValueError\u001b[0m                                Traceback (most recent call last)",
      "\u001b[1;32m~\\AppData\\Local\\Temp\\ipykernel_56292\\320770133.py\u001b[0m in \u001b[0;36m?\u001b[1;34m()\u001b[0m\n\u001b[1;32m----> 1\u001b[1;33m \u001b[0mfeature_var\u001b[0m\u001b[1;33m.\u001b[0m\u001b[0mexplode\u001b[0m\u001b[1;33m(\u001b[0m\u001b[0mfeature_var\u001b[0m\u001b[1;33m[\u001b[0m\u001b[1;34m'genres'\u001b[0m\u001b[1;33m]\u001b[0m\u001b[1;33m)\u001b[0m\u001b[1;33m\u001b[0m\u001b[1;33m\u001b[0m\u001b[0m\n\u001b[0m",
      "\u001b[1;32m~\\anaconda3\\Lib\\site-packages\\pandas\\core\\frame.py\u001b[0m in \u001b[0;36m?\u001b[1;34m(self, column, ignore_index)\u001b[0m\n\u001b[0;32m   8873\u001b[0m             \u001b[1;32mif\u001b[0m \u001b[0mlen\u001b[0m\u001b[1;33m(\u001b[0m\u001b[0mcolumn\u001b[0m\u001b[1;33m)\u001b[0m \u001b[1;33m>\u001b[0m \u001b[0mlen\u001b[0m\u001b[1;33m(\u001b[0m\u001b[0mset\u001b[0m\u001b[1;33m(\u001b[0m\u001b[0mcolumn\u001b[0m\u001b[1;33m)\u001b[0m\u001b[1;33m)\u001b[0m\u001b[1;33m:\u001b[0m\u001b[1;33m\u001b[0m\u001b[1;33m\u001b[0m\u001b[0m\n\u001b[0;32m   8874\u001b[0m                 \u001b[1;32mraise\u001b[0m \u001b[0mValueError\u001b[0m\u001b[1;33m(\u001b[0m\u001b[1;34m\"column must be unique\"\u001b[0m\u001b[1;33m)\u001b[0m\u001b[1;33m\u001b[0m\u001b[1;33m\u001b[0m\u001b[0m\n\u001b[0;32m   8875\u001b[0m             \u001b[0mcolumns\u001b[0m \u001b[1;33m=\u001b[0m \u001b[0mcolumn\u001b[0m\u001b[1;33m\u001b[0m\u001b[1;33m\u001b[0m\u001b[0m\n\u001b[0;32m   8876\u001b[0m         \u001b[1;32melse\u001b[0m\u001b[1;33m:\u001b[0m\u001b[1;33m\u001b[0m\u001b[1;33m\u001b[0m\u001b[0m\n\u001b[1;32m-> 8877\u001b[1;33m             \u001b[1;32mraise\u001b[0m \u001b[0mValueError\u001b[0m\u001b[1;33m(\u001b[0m\u001b[1;34m\"column must be a scalar, tuple, or list thereof\"\u001b[0m\u001b[1;33m)\u001b[0m\u001b[1;33m\u001b[0m\u001b[1;33m\u001b[0m\u001b[0m\n\u001b[0m\u001b[0;32m   8878\u001b[0m \u001b[1;33m\u001b[0m\u001b[0m\n\u001b[0;32m   8879\u001b[0m         \u001b[0mdf\u001b[0m \u001b[1;33m=\u001b[0m \u001b[0mself\u001b[0m\u001b[1;33m.\u001b[0m\u001b[0mreset_index\u001b[0m\u001b[1;33m(\u001b[0m\u001b[0mdrop\u001b[0m\u001b[1;33m=\u001b[0m\u001b[1;32mTrue\u001b[0m\u001b[1;33m)\u001b[0m\u001b[1;33m\u001b[0m\u001b[1;33m\u001b[0m\u001b[0m\n\u001b[0;32m   8880\u001b[0m         \u001b[1;32mif\u001b[0m \u001b[0mlen\u001b[0m\u001b[1;33m(\u001b[0m\u001b[0mcolumns\u001b[0m\u001b[1;33m)\u001b[0m \u001b[1;33m==\u001b[0m \u001b[1;36m1\u001b[0m\u001b[1;33m:\u001b[0m\u001b[1;33m\u001b[0m\u001b[1;33m\u001b[0m\u001b[0m\n",
      "\u001b[1;31mValueError\u001b[0m: column must be a scalar, tuple, or list thereof"
     ]
    }
   ],
   "source": [
    "feature_var.explode(feature_var['genres'])"
   ]
  },
  {
   "cell_type": "code",
   "execution_count": null,
   "id": "73bb071e",
   "metadata": {},
   "outputs": [],
   "source": [
    "fea"
   ]
  },
  {
   "cell_type": "code",
   "execution_count": null,
   "id": "86b1888d",
   "metadata": {},
   "outputs": [],
   "source": []
  },
  {
   "cell_type": "code",
   "execution_count": 238,
   "id": "5ade350d",
   "metadata": {},
   "outputs": [
    {
     "data": {
      "text/html": [
       "<div>\n",
       "<style scoped>\n",
       "    .dataframe tbody tr th:only-of-type {\n",
       "        vertical-align: middle;\n",
       "    }\n",
       "\n",
       "    .dataframe tbody tr th {\n",
       "        vertical-align: top;\n",
       "    }\n",
       "\n",
       "    .dataframe thead th {\n",
       "        text-align: right;\n",
       "    }\n",
       "</style>\n",
       "<table border=\"1\" class=\"dataframe\">\n",
       "  <thead>\n",
       "    <tr style=\"text-align: right;\">\n",
       "      <th></th>\n",
       "      <th>appid</th>\n",
       "      <th>name</th>\n",
       "      <th>release_date</th>\n",
       "      <th>english</th>\n",
       "      <th>developer</th>\n",
       "      <th>publisher</th>\n",
       "      <th>platforms</th>\n",
       "      <th>required_age</th>\n",
       "      <th>categories</th>\n",
       "      <th>genres</th>\n",
       "      <th>steamspy_tags</th>\n",
       "      <th>achievements</th>\n",
       "      <th>positive_ratings</th>\n",
       "      <th>negative_ratings</th>\n",
       "      <th>average_playtime</th>\n",
       "      <th>median_playtime</th>\n",
       "      <th>owners</th>\n",
       "      <th>price</th>\n",
       "      <th>revenue</th>\n",
       "      <th>release_year</th>\n",
       "    </tr>\n",
       "  </thead>\n",
       "  <tbody>\n",
       "    <tr>\n",
       "      <th>0</th>\n",
       "      <td>10</td>\n",
       "      <td>Counter-Strike</td>\n",
       "      <td>2000-11-01</td>\n",
       "      <td>1</td>\n",
       "      <td>Valve</td>\n",
       "      <td>Valve</td>\n",
       "      <td>[windows]</td>\n",
       "      <td>0</td>\n",
       "      <td>Multi-player</td>\n",
       "      <td>nan</td>\n",
       "      <td>Action</td>\n",
       "      <td>0</td>\n",
       "      <td>124534</td>\n",
       "      <td>3339</td>\n",
       "      <td>17612</td>\n",
       "      <td>317</td>\n",
       "      <td>20000000</td>\n",
       "      <td>7.19</td>\n",
       "      <td>143800000.0</td>\n",
       "      <td>2000</td>\n",
       "    </tr>\n",
       "    <tr>\n",
       "      <th>0</th>\n",
       "      <td>10</td>\n",
       "      <td>Counter-Strike</td>\n",
       "      <td>2000-11-01</td>\n",
       "      <td>1</td>\n",
       "      <td>Valve</td>\n",
       "      <td>Valve</td>\n",
       "      <td>[windows]</td>\n",
       "      <td>0</td>\n",
       "      <td>Multi-player</td>\n",
       "      <td>nan</td>\n",
       "      <td>FPS</td>\n",
       "      <td>0</td>\n",
       "      <td>124534</td>\n",
       "      <td>3339</td>\n",
       "      <td>17612</td>\n",
       "      <td>317</td>\n",
       "      <td>20000000</td>\n",
       "      <td>7.19</td>\n",
       "      <td>143800000.0</td>\n",
       "      <td>2000</td>\n",
       "    </tr>\n",
       "    <tr>\n",
       "      <th>0</th>\n",
       "      <td>10</td>\n",
       "      <td>Counter-Strike</td>\n",
       "      <td>2000-11-01</td>\n",
       "      <td>1</td>\n",
       "      <td>Valve</td>\n",
       "      <td>Valve</td>\n",
       "      <td>[windows]</td>\n",
       "      <td>0</td>\n",
       "      <td>Multi-player</td>\n",
       "      <td>nan</td>\n",
       "      <td>Multiplayer</td>\n",
       "      <td>0</td>\n",
       "      <td>124534</td>\n",
       "      <td>3339</td>\n",
       "      <td>17612</td>\n",
       "      <td>317</td>\n",
       "      <td>20000000</td>\n",
       "      <td>7.19</td>\n",
       "      <td>143800000.0</td>\n",
       "      <td>2000</td>\n",
       "    </tr>\n",
       "    <tr>\n",
       "      <th>0</th>\n",
       "      <td>10</td>\n",
       "      <td>Counter-Strike</td>\n",
       "      <td>2000-11-01</td>\n",
       "      <td>1</td>\n",
       "      <td>Valve</td>\n",
       "      <td>Valve</td>\n",
       "      <td>[windows]</td>\n",
       "      <td>0</td>\n",
       "      <td>Online Multi-Player</td>\n",
       "      <td>nan</td>\n",
       "      <td>Action</td>\n",
       "      <td>0</td>\n",
       "      <td>124534</td>\n",
       "      <td>3339</td>\n",
       "      <td>17612</td>\n",
       "      <td>317</td>\n",
       "      <td>20000000</td>\n",
       "      <td>7.19</td>\n",
       "      <td>143800000.0</td>\n",
       "      <td>2000</td>\n",
       "    </tr>\n",
       "    <tr>\n",
       "      <th>0</th>\n",
       "      <td>10</td>\n",
       "      <td>Counter-Strike</td>\n",
       "      <td>2000-11-01</td>\n",
       "      <td>1</td>\n",
       "      <td>Valve</td>\n",
       "      <td>Valve</td>\n",
       "      <td>[windows]</td>\n",
       "      <td>0</td>\n",
       "      <td>Online Multi-Player</td>\n",
       "      <td>nan</td>\n",
       "      <td>FPS</td>\n",
       "      <td>0</td>\n",
       "      <td>124534</td>\n",
       "      <td>3339</td>\n",
       "      <td>17612</td>\n",
       "      <td>317</td>\n",
       "      <td>20000000</td>\n",
       "      <td>7.19</td>\n",
       "      <td>143800000.0</td>\n",
       "      <td>2000</td>\n",
       "    </tr>\n",
       "    <tr>\n",
       "      <th>...</th>\n",
       "      <td>...</td>\n",
       "      <td>...</td>\n",
       "      <td>...</td>\n",
       "      <td>...</td>\n",
       "      <td>...</td>\n",
       "      <td>...</td>\n",
       "      <td>...</td>\n",
       "      <td>...</td>\n",
       "      <td>...</td>\n",
       "      <td>...</td>\n",
       "      <td>...</td>\n",
       "      <td>...</td>\n",
       "      <td>...</td>\n",
       "      <td>...</td>\n",
       "      <td>...</td>\n",
       "      <td>...</td>\n",
       "      <td>...</td>\n",
       "      <td>...</td>\n",
       "      <td>...</td>\n",
       "      <td>...</td>\n",
       "    </tr>\n",
       "    <tr>\n",
       "      <th>27074</th>\n",
       "      <td>1069460</td>\n",
       "      <td>Rune Lord</td>\n",
       "      <td>2019-04-24</td>\n",
       "      <td>1</td>\n",
       "      <td>Adept Studios GD</td>\n",
       "      <td>Alawar Entertainment</td>\n",
       "      <td>[mac]</td>\n",
       "      <td>0</td>\n",
       "      <td>Steam Cloud</td>\n",
       "      <td>nan</td>\n",
       "      <td>Casual</td>\n",
       "      <td>0</td>\n",
       "      <td>4</td>\n",
       "      <td>0</td>\n",
       "      <td>0</td>\n",
       "      <td>0</td>\n",
       "      <td>20000</td>\n",
       "      <td>5.19</td>\n",
       "      <td>103800.0</td>\n",
       "      <td>2019</td>\n",
       "    </tr>\n",
       "    <tr>\n",
       "      <th>27074</th>\n",
       "      <td>1069460</td>\n",
       "      <td>Rune Lord</td>\n",
       "      <td>2019-04-24</td>\n",
       "      <td>1</td>\n",
       "      <td>Adept Studios GD</td>\n",
       "      <td>Alawar Entertainment</td>\n",
       "      <td>[mac]</td>\n",
       "      <td>0</td>\n",
       "      <td>Steam Cloud</td>\n",
       "      <td>nan</td>\n",
       "      <td>Casual</td>\n",
       "      <td>0</td>\n",
       "      <td>4</td>\n",
       "      <td>0</td>\n",
       "      <td>0</td>\n",
       "      <td>0</td>\n",
       "      <td>20000</td>\n",
       "      <td>5.19</td>\n",
       "      <td>103800.0</td>\n",
       "      <td>2019</td>\n",
       "    </tr>\n",
       "    <tr>\n",
       "      <th>27074</th>\n",
       "      <td>1069460</td>\n",
       "      <td>Rune Lord</td>\n",
       "      <td>2019-04-24</td>\n",
       "      <td>1</td>\n",
       "      <td>Adept Studios GD</td>\n",
       "      <td>Alawar Entertainment</td>\n",
       "      <td>[mac]</td>\n",
       "      <td>0</td>\n",
       "      <td>Steam Cloud</td>\n",
       "      <td>nan</td>\n",
       "      <td>Adventure</td>\n",
       "      <td>0</td>\n",
       "      <td>4</td>\n",
       "      <td>0</td>\n",
       "      <td>0</td>\n",
       "      <td>0</td>\n",
       "      <td>20000</td>\n",
       "      <td>5.19</td>\n",
       "      <td>103800.0</td>\n",
       "      <td>2019</td>\n",
       "    </tr>\n",
       "    <tr>\n",
       "      <th>27074</th>\n",
       "      <td>1069460</td>\n",
       "      <td>Rune Lord</td>\n",
       "      <td>2019-04-24</td>\n",
       "      <td>1</td>\n",
       "      <td>Adept Studios GD</td>\n",
       "      <td>Alawar Entertainment</td>\n",
       "      <td>[mac]</td>\n",
       "      <td>0</td>\n",
       "      <td>Steam Cloud</td>\n",
       "      <td>nan</td>\n",
       "      <td>Adventure</td>\n",
       "      <td>0</td>\n",
       "      <td>4</td>\n",
       "      <td>0</td>\n",
       "      <td>0</td>\n",
       "      <td>0</td>\n",
       "      <td>20000</td>\n",
       "      <td>5.19</td>\n",
       "      <td>103800.0</td>\n",
       "      <td>2019</td>\n",
       "    </tr>\n",
       "    <tr>\n",
       "      <th>27074</th>\n",
       "      <td>1069460</td>\n",
       "      <td>Rune Lord</td>\n",
       "      <td>2019-04-24</td>\n",
       "      <td>1</td>\n",
       "      <td>Adept Studios GD</td>\n",
       "      <td>Alawar Entertainment</td>\n",
       "      <td>[mac]</td>\n",
       "      <td>0</td>\n",
       "      <td>Steam Cloud</td>\n",
       "      <td>nan</td>\n",
       "      <td>Adventure</td>\n",
       "      <td>0</td>\n",
       "      <td>4</td>\n",
       "      <td>0</td>\n",
       "      <td>0</td>\n",
       "      <td>0</td>\n",
       "      <td>20000</td>\n",
       "      <td>5.19</td>\n",
       "      <td>103800.0</td>\n",
       "      <td>2019</td>\n",
       "    </tr>\n",
       "  </tbody>\n",
       "</table>\n",
       "<p>1240080 rows × 20 columns</p>\n",
       "</div>"
      ],
      "text/plain": [
       "         appid            name release_date  english         developer  \\\n",
       "0           10  Counter-Strike   2000-11-01        1             Valve   \n",
       "0           10  Counter-Strike   2000-11-01        1             Valve   \n",
       "0           10  Counter-Strike   2000-11-01        1             Valve   \n",
       "0           10  Counter-Strike   2000-11-01        1             Valve   \n",
       "0           10  Counter-Strike   2000-11-01        1             Valve   \n",
       "...        ...             ...          ...      ...               ...   \n",
       "27074  1069460       Rune Lord   2019-04-24        1  Adept Studios GD   \n",
       "27074  1069460       Rune Lord   2019-04-24        1  Adept Studios GD   \n",
       "27074  1069460       Rune Lord   2019-04-24        1  Adept Studios GD   \n",
       "27074  1069460       Rune Lord   2019-04-24        1  Adept Studios GD   \n",
       "27074  1069460       Rune Lord   2019-04-24        1  Adept Studios GD   \n",
       "\n",
       "                  publisher  platforms  required_age           categories  \\\n",
       "0                     Valve  [windows]             0         Multi-player   \n",
       "0                     Valve  [windows]             0         Multi-player   \n",
       "0                     Valve  [windows]             0         Multi-player   \n",
       "0                     Valve  [windows]             0  Online Multi-Player   \n",
       "0                     Valve  [windows]             0  Online Multi-Player   \n",
       "...                     ...        ...           ...                  ...   \n",
       "27074  Alawar Entertainment      [mac]             0          Steam Cloud   \n",
       "27074  Alawar Entertainment      [mac]             0          Steam Cloud   \n",
       "27074  Alawar Entertainment      [mac]             0          Steam Cloud   \n",
       "27074  Alawar Entertainment      [mac]             0          Steam Cloud   \n",
       "27074  Alawar Entertainment      [mac]             0          Steam Cloud   \n",
       "\n",
       "      genres steamspy_tags  achievements  positive_ratings  negative_ratings  \\\n",
       "0        nan        Action             0            124534              3339   \n",
       "0        nan           FPS             0            124534              3339   \n",
       "0        nan   Multiplayer             0            124534              3339   \n",
       "0        nan        Action             0            124534              3339   \n",
       "0        nan           FPS             0            124534              3339   \n",
       "...      ...           ...           ...               ...               ...   \n",
       "27074    nan        Casual             0                 4                 0   \n",
       "27074    nan        Casual             0                 4                 0   \n",
       "27074    nan     Adventure             0                 4                 0   \n",
       "27074    nan     Adventure             0                 4                 0   \n",
       "27074    nan     Adventure             0                 4                 0   \n",
       "\n",
       "       average_playtime  median_playtime    owners  price      revenue  \\\n",
       "0                 17612              317  20000000   7.19  143800000.0   \n",
       "0                 17612              317  20000000   7.19  143800000.0   \n",
       "0                 17612              317  20000000   7.19  143800000.0   \n",
       "0                 17612              317  20000000   7.19  143800000.0   \n",
       "0                 17612              317  20000000   7.19  143800000.0   \n",
       "...                 ...              ...       ...    ...          ...   \n",
       "27074                 0                0     20000   5.19     103800.0   \n",
       "27074                 0                0     20000   5.19     103800.0   \n",
       "27074                 0                0     20000   5.19     103800.0   \n",
       "27074                 0                0     20000   5.19     103800.0   \n",
       "27074                 0                0     20000   5.19     103800.0   \n",
       "\n",
       "       release_year  \n",
       "0              2000  \n",
       "0              2000  \n",
       "0              2000  \n",
       "0              2000  \n",
       "0              2000  \n",
       "...             ...  \n",
       "27074          2019  \n",
       "27074          2019  \n",
       "27074          2019  \n",
       "27074          2019  \n",
       "27074          2019  \n",
       "\n",
       "[1240080 rows x 20 columns]"
      ]
     },
     "execution_count": 238,
     "metadata": {},
     "output_type": "execute_result"
    }
   ],
   "source": [
    "df"
   ]
  },
  {
   "cell_type": "markdown",
   "id": "8c07e187",
   "metadata": {},
   "source": [
    "### Splitting data into train test split"
   ]
  },
  {
   "cell_type": "code",
   "execution_count": 224,
   "id": "5803a7f4",
   "metadata": {},
   "outputs": [],
   "source": [
    "from sklearn.model_selection import train_test_split"
   ]
  },
  {
   "cell_type": "code",
   "execution_count": 225,
   "id": "c1f15f67",
   "metadata": {},
   "outputs": [],
   "source": [
    "X_train, X_test, y_train, y_test = train_test_split(feature_var, class_var, test_size=0.2, random_state=10, stratify=class_var)"
   ]
  },
  {
   "cell_type": "code",
   "execution_count": 226,
   "id": "cef8a941",
   "metadata": {},
   "outputs": [
    {
     "name": "stdout",
     "output_type": "stream",
     "text": [
      "(992064, 3) (992064,)\n",
      "(248016, 3) (248016,)\n"
     ]
    }
   ],
   "source": [
    "print(X_train.shape, y_train.shape)\n",
    "print(X_test.shape, y_test.shape)"
   ]
  },
  {
   "cell_type": "markdown",
   "id": "6a08078d",
   "metadata": {},
   "source": [
    "### Data preprocessing on Train Data"
   ]
  },
  {
   "cell_type": "code",
   "execution_count": 227,
   "id": "2ace73d8",
   "metadata": {},
   "outputs": [],
   "source": [
    "from sklearn.preprocessing import StandardScaler, MinMaxScaler"
   ]
  },
  {
   "cell_type": "code",
   "execution_count": 228,
   "id": "e11824c3",
   "metadata": {},
   "outputs": [
    {
     "ename": "ValueError",
     "evalue": "setting an array element with a sequence.",
     "output_type": "error",
     "traceback": [
      "\u001b[1;31m---------------------------------------------------------------------------\u001b[0m",
      "\u001b[1;31mTypeError\u001b[0m                                 Traceback (most recent call last)",
      "\u001b[1;31mTypeError\u001b[0m: float() argument must be a string or a real number, not 'list'",
      "\nThe above exception was the direct cause of the following exception:\n",
      "\u001b[1;31mValueError\u001b[0m                                Traceback (most recent call last)",
      "\u001b[1;32m~\\AppData\\Local\\Temp\\ipykernel_56292\\2743785860.py\u001b[0m in \u001b[0;36m?\u001b[1;34m()\u001b[0m\n\u001b[0;32m      1\u001b[0m \u001b[0mstd\u001b[0m \u001b[1;33m=\u001b[0m \u001b[0mStandardScaler\u001b[0m\u001b[1;33m(\u001b[0m\u001b[1;33m)\u001b[0m\u001b[1;33m\u001b[0m\u001b[1;33m\u001b[0m\u001b[0m\n\u001b[1;32m----> 2\u001b[1;33m \u001b[0mX_train_ts\u001b[0m \u001b[1;33m=\u001b[0m \u001b[0mstd\u001b[0m\u001b[1;33m.\u001b[0m\u001b[0mfit_transform\u001b[0m\u001b[1;33m(\u001b[0m\u001b[0mX_train\u001b[0m\u001b[1;33m)\u001b[0m\u001b[1;33m\u001b[0m\u001b[1;33m\u001b[0m\u001b[0m\n\u001b[0m\u001b[0;32m      3\u001b[0m \u001b[0mX_test_ts\u001b[0m  \u001b[1;33m=\u001b[0m \u001b[0mstd\u001b[0m\u001b[1;33m.\u001b[0m\u001b[0mtransform\u001b[0m\u001b[1;33m(\u001b[0m\u001b[0mX_test\u001b[0m\u001b[1;33m)\u001b[0m\u001b[1;33m\u001b[0m\u001b[1;33m\u001b[0m\u001b[0m\n",
      "\u001b[1;32m~\\anaconda3\\Lib\\site-packages\\sklearn\\utils\\_set_output.py\u001b[0m in \u001b[0;36m?\u001b[1;34m(self, X, *args, **kwargs)\u001b[0m\n\u001b[0;32m    138\u001b[0m     \u001b[1;33m@\u001b[0m\u001b[0mwraps\u001b[0m\u001b[1;33m(\u001b[0m\u001b[0mf\u001b[0m\u001b[1;33m)\u001b[0m\u001b[1;33m\u001b[0m\u001b[1;33m\u001b[0m\u001b[0m\n\u001b[0;32m    139\u001b[0m     \u001b[1;32mdef\u001b[0m \u001b[0mwrapped\u001b[0m\u001b[1;33m(\u001b[0m\u001b[0mself\u001b[0m\u001b[1;33m,\u001b[0m \u001b[0mX\u001b[0m\u001b[1;33m,\u001b[0m \u001b[1;33m*\u001b[0m\u001b[0margs\u001b[0m\u001b[1;33m,\u001b[0m \u001b[1;33m**\u001b[0m\u001b[0mkwargs\u001b[0m\u001b[1;33m)\u001b[0m\u001b[1;33m:\u001b[0m\u001b[1;33m\u001b[0m\u001b[1;33m\u001b[0m\u001b[0m\n\u001b[1;32m--> 140\u001b[1;33m         \u001b[0mdata_to_wrap\u001b[0m \u001b[1;33m=\u001b[0m \u001b[0mf\u001b[0m\u001b[1;33m(\u001b[0m\u001b[0mself\u001b[0m\u001b[1;33m,\u001b[0m \u001b[0mX\u001b[0m\u001b[1;33m,\u001b[0m \u001b[1;33m*\u001b[0m\u001b[0margs\u001b[0m\u001b[1;33m,\u001b[0m \u001b[1;33m**\u001b[0m\u001b[0mkwargs\u001b[0m\u001b[1;33m)\u001b[0m\u001b[1;33m\u001b[0m\u001b[1;33m\u001b[0m\u001b[0m\n\u001b[0m\u001b[0;32m    141\u001b[0m         \u001b[1;32mif\u001b[0m \u001b[0misinstance\u001b[0m\u001b[1;33m(\u001b[0m\u001b[0mdata_to_wrap\u001b[0m\u001b[1;33m,\u001b[0m \u001b[0mtuple\u001b[0m\u001b[1;33m)\u001b[0m\u001b[1;33m:\u001b[0m\u001b[1;33m\u001b[0m\u001b[1;33m\u001b[0m\u001b[0m\n\u001b[0;32m    142\u001b[0m             \u001b[1;31m# only wrap the first output for cross decomposition\u001b[0m\u001b[1;33m\u001b[0m\u001b[1;33m\u001b[0m\u001b[0m\n\u001b[0;32m    143\u001b[0m             return_tuple = (\n",
      "\u001b[1;32m~\\anaconda3\\Lib\\site-packages\\sklearn\\base.py\u001b[0m in \u001b[0;36m?\u001b[1;34m(self, X, y, **fit_params)\u001b[0m\n\u001b[0;32m    911\u001b[0m         \u001b[1;31m# non-optimized default implementation; override when a better\u001b[0m\u001b[1;33m\u001b[0m\u001b[1;33m\u001b[0m\u001b[0m\n\u001b[0;32m    912\u001b[0m         \u001b[1;31m# method is possible for a given clustering algorithm\u001b[0m\u001b[1;33m\u001b[0m\u001b[1;33m\u001b[0m\u001b[0m\n\u001b[0;32m    913\u001b[0m         \u001b[1;32mif\u001b[0m \u001b[0my\u001b[0m \u001b[1;32mis\u001b[0m \u001b[1;32mNone\u001b[0m\u001b[1;33m:\u001b[0m\u001b[1;33m\u001b[0m\u001b[1;33m\u001b[0m\u001b[0m\n\u001b[0;32m    914\u001b[0m             \u001b[1;31m# fit method of arity 1 (unsupervised transformation)\u001b[0m\u001b[1;33m\u001b[0m\u001b[1;33m\u001b[0m\u001b[0m\n\u001b[1;32m--> 915\u001b[1;33m             \u001b[1;32mreturn\u001b[0m \u001b[0mself\u001b[0m\u001b[1;33m.\u001b[0m\u001b[0mfit\u001b[0m\u001b[1;33m(\u001b[0m\u001b[0mX\u001b[0m\u001b[1;33m,\u001b[0m \u001b[1;33m**\u001b[0m\u001b[0mfit_params\u001b[0m\u001b[1;33m)\u001b[0m\u001b[1;33m.\u001b[0m\u001b[0mtransform\u001b[0m\u001b[1;33m(\u001b[0m\u001b[0mX\u001b[0m\u001b[1;33m)\u001b[0m\u001b[1;33m\u001b[0m\u001b[1;33m\u001b[0m\u001b[0m\n\u001b[0m\u001b[0;32m    916\u001b[0m         \u001b[1;32melse\u001b[0m\u001b[1;33m:\u001b[0m\u001b[1;33m\u001b[0m\u001b[1;33m\u001b[0m\u001b[0m\n\u001b[0;32m    917\u001b[0m             \u001b[1;31m# fit method of arity 2 (supervised transformation)\u001b[0m\u001b[1;33m\u001b[0m\u001b[1;33m\u001b[0m\u001b[0m\n\u001b[0;32m    918\u001b[0m             \u001b[1;32mreturn\u001b[0m \u001b[0mself\u001b[0m\u001b[1;33m.\u001b[0m\u001b[0mfit\u001b[0m\u001b[1;33m(\u001b[0m\u001b[0mX\u001b[0m\u001b[1;33m,\u001b[0m \u001b[0my\u001b[0m\u001b[1;33m,\u001b[0m \u001b[1;33m**\u001b[0m\u001b[0mfit_params\u001b[0m\u001b[1;33m)\u001b[0m\u001b[1;33m.\u001b[0m\u001b[0mtransform\u001b[0m\u001b[1;33m(\u001b[0m\u001b[0mX\u001b[0m\u001b[1;33m)\u001b[0m\u001b[1;33m\u001b[0m\u001b[1;33m\u001b[0m\u001b[0m\n",
      "\u001b[1;32m~\\anaconda3\\Lib\\site-packages\\sklearn\\preprocessing\\_data.py\u001b[0m in \u001b[0;36m?\u001b[1;34m(self, X, y, sample_weight)\u001b[0m\n\u001b[0;32m    833\u001b[0m             \u001b[0mFitted\u001b[0m \u001b[0mscaler\u001b[0m\u001b[1;33m.\u001b[0m\u001b[1;33m\u001b[0m\u001b[1;33m\u001b[0m\u001b[0m\n\u001b[0;32m    834\u001b[0m         \"\"\"\n\u001b[0;32m    835\u001b[0m         \u001b[1;31m# Reset internal state before fitting\u001b[0m\u001b[1;33m\u001b[0m\u001b[1;33m\u001b[0m\u001b[0m\n\u001b[0;32m    836\u001b[0m         \u001b[0mself\u001b[0m\u001b[1;33m.\u001b[0m\u001b[0m_reset\u001b[0m\u001b[1;33m(\u001b[0m\u001b[1;33m)\u001b[0m\u001b[1;33m\u001b[0m\u001b[1;33m\u001b[0m\u001b[0m\n\u001b[1;32m--> 837\u001b[1;33m         \u001b[1;32mreturn\u001b[0m \u001b[0mself\u001b[0m\u001b[1;33m.\u001b[0m\u001b[0mpartial_fit\u001b[0m\u001b[1;33m(\u001b[0m\u001b[0mX\u001b[0m\u001b[1;33m,\u001b[0m \u001b[0my\u001b[0m\u001b[1;33m,\u001b[0m \u001b[0msample_weight\u001b[0m\u001b[1;33m)\u001b[0m\u001b[1;33m\u001b[0m\u001b[1;33m\u001b[0m\u001b[0m\n\u001b[0m",
      "\u001b[1;32m~\\anaconda3\\Lib\\site-packages\\sklearn\\base.py\u001b[0m in \u001b[0;36m?\u001b[1;34m(estimator, *args, **kwargs)\u001b[0m\n\u001b[0;32m   1147\u001b[0m                 skip_parameter_validation=(\n\u001b[0;32m   1148\u001b[0m                     \u001b[0mprefer_skip_nested_validation\u001b[0m \u001b[1;32mor\u001b[0m \u001b[0mglobal_skip_validation\u001b[0m\u001b[1;33m\u001b[0m\u001b[1;33m\u001b[0m\u001b[0m\n\u001b[0;32m   1149\u001b[0m                 )\n\u001b[0;32m   1150\u001b[0m             ):\n\u001b[1;32m-> 1151\u001b[1;33m                 \u001b[1;32mreturn\u001b[0m \u001b[0mfit_method\u001b[0m\u001b[1;33m(\u001b[0m\u001b[0mestimator\u001b[0m\u001b[1;33m,\u001b[0m \u001b[1;33m*\u001b[0m\u001b[0margs\u001b[0m\u001b[1;33m,\u001b[0m \u001b[1;33m**\u001b[0m\u001b[0mkwargs\u001b[0m\u001b[1;33m)\u001b[0m\u001b[1;33m\u001b[0m\u001b[1;33m\u001b[0m\u001b[0m\n\u001b[0m",
      "\u001b[1;32m~\\anaconda3\\Lib\\site-packages\\sklearn\\preprocessing\\_data.py\u001b[0m in \u001b[0;36m?\u001b[1;34m(self, X, y, sample_weight)\u001b[0m\n\u001b[0;32m    869\u001b[0m         \u001b[0mself\u001b[0m \u001b[1;33m:\u001b[0m \u001b[0mobject\u001b[0m\u001b[1;33m\u001b[0m\u001b[1;33m\u001b[0m\u001b[0m\n\u001b[0;32m    870\u001b[0m             \u001b[0mFitted\u001b[0m \u001b[0mscaler\u001b[0m\u001b[1;33m.\u001b[0m\u001b[1;33m\u001b[0m\u001b[1;33m\u001b[0m\u001b[0m\n\u001b[0;32m    871\u001b[0m         \"\"\"\n\u001b[0;32m    872\u001b[0m         \u001b[0mfirst_call\u001b[0m \u001b[1;33m=\u001b[0m \u001b[1;32mnot\u001b[0m \u001b[0mhasattr\u001b[0m\u001b[1;33m(\u001b[0m\u001b[0mself\u001b[0m\u001b[1;33m,\u001b[0m \u001b[1;34m\"n_samples_seen_\"\u001b[0m\u001b[1;33m)\u001b[0m\u001b[1;33m\u001b[0m\u001b[1;33m\u001b[0m\u001b[0m\n\u001b[1;32m--> 873\u001b[1;33m         X = self._validate_data(\n\u001b[0m\u001b[0;32m    874\u001b[0m             \u001b[0mX\u001b[0m\u001b[1;33m,\u001b[0m\u001b[1;33m\u001b[0m\u001b[1;33m\u001b[0m\u001b[0m\n\u001b[0;32m    875\u001b[0m             \u001b[0maccept_sparse\u001b[0m\u001b[1;33m=\u001b[0m\u001b[1;33m(\u001b[0m\u001b[1;34m\"csr\"\u001b[0m\u001b[1;33m,\u001b[0m \u001b[1;34m\"csc\"\u001b[0m\u001b[1;33m)\u001b[0m\u001b[1;33m,\u001b[0m\u001b[1;33m\u001b[0m\u001b[1;33m\u001b[0m\u001b[0m\n\u001b[0;32m    876\u001b[0m             \u001b[0mdtype\u001b[0m\u001b[1;33m=\u001b[0m\u001b[0mFLOAT_DTYPES\u001b[0m\u001b[1;33m,\u001b[0m\u001b[1;33m\u001b[0m\u001b[1;33m\u001b[0m\u001b[0m\n",
      "\u001b[1;32m~\\anaconda3\\Lib\\site-packages\\sklearn\\base.py\u001b[0m in \u001b[0;36m?\u001b[1;34m(self, X, y, reset, validate_separately, cast_to_ndarray, **check_params)\u001b[0m\n\u001b[0;32m    600\u001b[0m                 \u001b[0mout\u001b[0m \u001b[1;33m=\u001b[0m \u001b[0my\u001b[0m\u001b[1;33m\u001b[0m\u001b[1;33m\u001b[0m\u001b[0m\n\u001b[0;32m    601\u001b[0m             \u001b[1;32melse\u001b[0m\u001b[1;33m:\u001b[0m\u001b[1;33m\u001b[0m\u001b[1;33m\u001b[0m\u001b[0m\n\u001b[0;32m    602\u001b[0m                 \u001b[0mout\u001b[0m \u001b[1;33m=\u001b[0m \u001b[0mX\u001b[0m\u001b[1;33m,\u001b[0m \u001b[0my\u001b[0m\u001b[1;33m\u001b[0m\u001b[1;33m\u001b[0m\u001b[0m\n\u001b[0;32m    603\u001b[0m         \u001b[1;32melif\u001b[0m \u001b[1;32mnot\u001b[0m \u001b[0mno_val_X\u001b[0m \u001b[1;32mand\u001b[0m \u001b[0mno_val_y\u001b[0m\u001b[1;33m:\u001b[0m\u001b[1;33m\u001b[0m\u001b[1;33m\u001b[0m\u001b[0m\n\u001b[1;32m--> 604\u001b[1;33m             \u001b[0mout\u001b[0m \u001b[1;33m=\u001b[0m \u001b[0mcheck_array\u001b[0m\u001b[1;33m(\u001b[0m\u001b[0mX\u001b[0m\u001b[1;33m,\u001b[0m \u001b[0minput_name\u001b[0m\u001b[1;33m=\u001b[0m\u001b[1;34m\"X\"\u001b[0m\u001b[1;33m,\u001b[0m \u001b[1;33m**\u001b[0m\u001b[0mcheck_params\u001b[0m\u001b[1;33m)\u001b[0m\u001b[1;33m\u001b[0m\u001b[1;33m\u001b[0m\u001b[0m\n\u001b[0m\u001b[0;32m    605\u001b[0m         \u001b[1;32melif\u001b[0m \u001b[0mno_val_X\u001b[0m \u001b[1;32mand\u001b[0m \u001b[1;32mnot\u001b[0m \u001b[0mno_val_y\u001b[0m\u001b[1;33m:\u001b[0m\u001b[1;33m\u001b[0m\u001b[1;33m\u001b[0m\u001b[0m\n\u001b[0;32m    606\u001b[0m             \u001b[0mout\u001b[0m \u001b[1;33m=\u001b[0m \u001b[0m_check_y\u001b[0m\u001b[1;33m(\u001b[0m\u001b[0my\u001b[0m\u001b[1;33m,\u001b[0m \u001b[1;33m**\u001b[0m\u001b[0mcheck_params\u001b[0m\u001b[1;33m)\u001b[0m\u001b[1;33m\u001b[0m\u001b[1;33m\u001b[0m\u001b[0m\n\u001b[0;32m    607\u001b[0m         \u001b[1;32melse\u001b[0m\u001b[1;33m:\u001b[0m\u001b[1;33m\u001b[0m\u001b[1;33m\u001b[0m\u001b[0m\n",
      "\u001b[1;32m~\\anaconda3\\Lib\\site-packages\\sklearn\\utils\\validation.py\u001b[0m in \u001b[0;36m?\u001b[1;34m(array, accept_sparse, accept_large_sparse, dtype, order, copy, force_all_finite, ensure_2d, allow_nd, ensure_min_samples, ensure_min_features, estimator, input_name)\u001b[0m\n\u001b[0;32m    914\u001b[0m                         )\n\u001b[0;32m    915\u001b[0m                     \u001b[0marray\u001b[0m \u001b[1;33m=\u001b[0m \u001b[0mxp\u001b[0m\u001b[1;33m.\u001b[0m\u001b[0mastype\u001b[0m\u001b[1;33m(\u001b[0m\u001b[0marray\u001b[0m\u001b[1;33m,\u001b[0m \u001b[0mdtype\u001b[0m\u001b[1;33m,\u001b[0m \u001b[0mcopy\u001b[0m\u001b[1;33m=\u001b[0m\u001b[1;32mFalse\u001b[0m\u001b[1;33m)\u001b[0m\u001b[1;33m\u001b[0m\u001b[1;33m\u001b[0m\u001b[0m\n\u001b[0;32m    916\u001b[0m                 \u001b[1;32melse\u001b[0m\u001b[1;33m:\u001b[0m\u001b[1;33m\u001b[0m\u001b[1;33m\u001b[0m\u001b[0m\n\u001b[0;32m    917\u001b[0m                     \u001b[0marray\u001b[0m \u001b[1;33m=\u001b[0m \u001b[0m_asarray_with_order\u001b[0m\u001b[1;33m(\u001b[0m\u001b[0marray\u001b[0m\u001b[1;33m,\u001b[0m \u001b[0morder\u001b[0m\u001b[1;33m=\u001b[0m\u001b[0morder\u001b[0m\u001b[1;33m,\u001b[0m \u001b[0mdtype\u001b[0m\u001b[1;33m=\u001b[0m\u001b[0mdtype\u001b[0m\u001b[1;33m,\u001b[0m \u001b[0mxp\u001b[0m\u001b[1;33m=\u001b[0m\u001b[0mxp\u001b[0m\u001b[1;33m)\u001b[0m\u001b[1;33m\u001b[0m\u001b[1;33m\u001b[0m\u001b[0m\n\u001b[1;32m--> 918\u001b[1;33m             \u001b[1;32mexcept\u001b[0m \u001b[0mComplexWarning\u001b[0m \u001b[1;32mas\u001b[0m \u001b[0mcomplex_warning\u001b[0m\u001b[1;33m:\u001b[0m\u001b[1;33m\u001b[0m\u001b[1;33m\u001b[0m\u001b[0m\n\u001b[0m\u001b[0;32m    919\u001b[0m                 raise ValueError(\n\u001b[0;32m    920\u001b[0m                     \u001b[1;34m\"Complex data not supported\\n{}\\n\"\u001b[0m\u001b[1;33m.\u001b[0m\u001b[0mformat\u001b[0m\u001b[1;33m(\u001b[0m\u001b[0marray\u001b[0m\u001b[1;33m)\u001b[0m\u001b[1;33m\u001b[0m\u001b[1;33m\u001b[0m\u001b[0m\n\u001b[0;32m    921\u001b[0m                 ) from complex_warning\n",
      "\u001b[1;32m~\\anaconda3\\Lib\\site-packages\\sklearn\\utils\\_array_api.py\u001b[0m in \u001b[0;36m?\u001b[1;34m(array, dtype, order, copy, xp)\u001b[0m\n\u001b[0;32m    376\u001b[0m         \u001b[1;31m# Use NumPy API to support order\u001b[0m\u001b[1;33m\u001b[0m\u001b[1;33m\u001b[0m\u001b[0m\n\u001b[0;32m    377\u001b[0m         \u001b[1;32mif\u001b[0m \u001b[0mcopy\u001b[0m \u001b[1;32mis\u001b[0m \u001b[1;32mTrue\u001b[0m\u001b[1;33m:\u001b[0m\u001b[1;33m\u001b[0m\u001b[1;33m\u001b[0m\u001b[0m\n\u001b[0;32m    378\u001b[0m             \u001b[0marray\u001b[0m \u001b[1;33m=\u001b[0m \u001b[0mnumpy\u001b[0m\u001b[1;33m.\u001b[0m\u001b[0marray\u001b[0m\u001b[1;33m(\u001b[0m\u001b[0marray\u001b[0m\u001b[1;33m,\u001b[0m \u001b[0morder\u001b[0m\u001b[1;33m=\u001b[0m\u001b[0morder\u001b[0m\u001b[1;33m,\u001b[0m \u001b[0mdtype\u001b[0m\u001b[1;33m=\u001b[0m\u001b[0mdtype\u001b[0m\u001b[1;33m)\u001b[0m\u001b[1;33m\u001b[0m\u001b[1;33m\u001b[0m\u001b[0m\n\u001b[0;32m    379\u001b[0m         \u001b[1;32melse\u001b[0m\u001b[1;33m:\u001b[0m\u001b[1;33m\u001b[0m\u001b[1;33m\u001b[0m\u001b[0m\n\u001b[1;32m--> 380\u001b[1;33m             \u001b[0marray\u001b[0m \u001b[1;33m=\u001b[0m \u001b[0mnumpy\u001b[0m\u001b[1;33m.\u001b[0m\u001b[0masarray\u001b[0m\u001b[1;33m(\u001b[0m\u001b[0marray\u001b[0m\u001b[1;33m,\u001b[0m \u001b[0morder\u001b[0m\u001b[1;33m=\u001b[0m\u001b[0morder\u001b[0m\u001b[1;33m,\u001b[0m \u001b[0mdtype\u001b[0m\u001b[1;33m=\u001b[0m\u001b[0mdtype\u001b[0m\u001b[1;33m)\u001b[0m\u001b[1;33m\u001b[0m\u001b[1;33m\u001b[0m\u001b[0m\n\u001b[0m\u001b[0;32m    381\u001b[0m \u001b[1;33m\u001b[0m\u001b[0m\n\u001b[0;32m    382\u001b[0m         \u001b[1;31m# At this point array is a NumPy ndarray. We convert it to an array\u001b[0m\u001b[1;33m\u001b[0m\u001b[1;33m\u001b[0m\u001b[0m\n\u001b[0;32m    383\u001b[0m         \u001b[1;31m# container that is consistent with the input's namespace.\u001b[0m\u001b[1;33m\u001b[0m\u001b[1;33m\u001b[0m\u001b[0m\n",
      "\u001b[1;32m~\\anaconda3\\Lib\\site-packages\\pandas\\core\\generic.py\u001b[0m in \u001b[0;36m?\u001b[1;34m(self, dtype)\u001b[0m\n\u001b[0;32m   1996\u001b[0m     \u001b[1;32mdef\u001b[0m \u001b[0m__array__\u001b[0m\u001b[1;33m(\u001b[0m\u001b[0mself\u001b[0m\u001b[1;33m,\u001b[0m \u001b[0mdtype\u001b[0m\u001b[1;33m:\u001b[0m \u001b[0mnpt\u001b[0m\u001b[1;33m.\u001b[0m\u001b[0mDTypeLike\u001b[0m \u001b[1;33m|\u001b[0m \u001b[1;32mNone\u001b[0m \u001b[1;33m=\u001b[0m \u001b[1;32mNone\u001b[0m\u001b[1;33m)\u001b[0m \u001b[1;33m->\u001b[0m \u001b[0mnp\u001b[0m\u001b[1;33m.\u001b[0m\u001b[0mndarray\u001b[0m\u001b[1;33m:\u001b[0m\u001b[1;33m\u001b[0m\u001b[1;33m\u001b[0m\u001b[0m\n\u001b[0;32m   1997\u001b[0m         \u001b[0mvalues\u001b[0m \u001b[1;33m=\u001b[0m \u001b[0mself\u001b[0m\u001b[1;33m.\u001b[0m\u001b[0m_values\u001b[0m\u001b[1;33m\u001b[0m\u001b[1;33m\u001b[0m\u001b[0m\n\u001b[1;32m-> 1998\u001b[1;33m         \u001b[0marr\u001b[0m \u001b[1;33m=\u001b[0m \u001b[0mnp\u001b[0m\u001b[1;33m.\u001b[0m\u001b[0masarray\u001b[0m\u001b[1;33m(\u001b[0m\u001b[0mvalues\u001b[0m\u001b[1;33m,\u001b[0m \u001b[0mdtype\u001b[0m\u001b[1;33m=\u001b[0m\u001b[0mdtype\u001b[0m\u001b[1;33m)\u001b[0m\u001b[1;33m\u001b[0m\u001b[1;33m\u001b[0m\u001b[0m\n\u001b[0m\u001b[0;32m   1999\u001b[0m         if (\n\u001b[0;32m   2000\u001b[0m             \u001b[0mastype_is_view\u001b[0m\u001b[1;33m(\u001b[0m\u001b[0mvalues\u001b[0m\u001b[1;33m.\u001b[0m\u001b[0mdtype\u001b[0m\u001b[1;33m,\u001b[0m \u001b[0marr\u001b[0m\u001b[1;33m.\u001b[0m\u001b[0mdtype\u001b[0m\u001b[1;33m)\u001b[0m\u001b[1;33m\u001b[0m\u001b[1;33m\u001b[0m\u001b[0m\n\u001b[0;32m   2001\u001b[0m             \u001b[1;32mand\u001b[0m \u001b[0musing_copy_on_write\u001b[0m\u001b[1;33m(\u001b[0m\u001b[1;33m)\u001b[0m\u001b[1;33m\u001b[0m\u001b[1;33m\u001b[0m\u001b[0m\n",
      "\u001b[1;31mValueError\u001b[0m: setting an array element with a sequence."
     ]
    }
   ],
   "source": [
    "std = StandardScaler()\n",
    "X_train_ts = std.fit_transform(X_train)\n",
    "X_test_ts  = std.transform(X_test)"
   ]
  },
  {
   "cell_type": "code",
   "execution_count": 229,
   "id": "b4aa4a18",
   "metadata": {},
   "outputs": [
    {
     "data": {
      "text/plain": [
       "release_year      int32\n",
       "price           float64\n",
       "genres           object\n",
       "dtype: object"
      ]
     },
     "execution_count": 229,
     "metadata": {},
     "output_type": "execute_result"
    }
   ],
   "source": [
    "X_train.dtypes"
   ]
  },
  {
   "cell_type": "code",
   "execution_count": null,
   "id": "ca9bf35e",
   "metadata": {},
   "outputs": [],
   "source": []
  },
  {
   "cell_type": "code",
   "execution_count": null,
   "id": "19c208cb",
   "metadata": {},
   "outputs": [],
   "source": []
  },
  {
   "cell_type": "code",
   "execution_count": null,
   "id": "4e7cbd39",
   "metadata": {},
   "outputs": [],
   "source": []
  },
  {
   "cell_type": "code",
   "execution_count": null,
   "id": "b2111791",
   "metadata": {},
   "outputs": [],
   "source": []
  },
  {
   "cell_type": "code",
   "execution_count": null,
   "id": "641d88a4",
   "metadata": {},
   "outputs": [],
   "source": []
  },
  {
   "cell_type": "code",
   "execution_count": null,
   "id": "05d92992",
   "metadata": {},
   "outputs": [],
   "source": []
  },
  {
   "cell_type": "code",
   "execution_count": null,
   "id": "a50216c6",
   "metadata": {},
   "outputs": [],
   "source": []
  },
  {
   "cell_type": "code",
   "execution_count": null,
   "id": "a7b185fb",
   "metadata": {},
   "outputs": [],
   "source": []
  },
  {
   "cell_type": "code",
   "execution_count": null,
   "id": "ad8da70b-8dad-487e-8378-ead950c7e1d1",
   "metadata": {},
   "outputs": [],
   "source": [
    "# 9. Identify games that have a high number of negative ratings relative to positive ratings. What are the common characteristics of these games?"
   ]
  },
  {
   "cell_type": "code",
   "execution_count": null,
   "id": "d81d1866-dd81-4db1-95aa-7217196d244a",
   "metadata": {},
   "outputs": [],
   "source": [
    "# 10. What is the most significant factor affecting a game's revenue based on the dataset? Perform a regression analysis to determine this.\n"
   ]
  },
  {
   "cell_type": "code",
   "execution_count": null,
   "id": "7fc8efa2-dd4f-4b9b-99af-60f1b3a0a4d9",
   "metadata": {},
   "outputs": [],
   "source": []
  }
 ],
 "metadata": {
  "kernelspec": {
   "display_name": "Python 3 (ipykernel)",
   "language": "python",
   "name": "python3"
  },
  "language_info": {
   "codemirror_mode": {
    "name": "ipython",
    "version": 3
   },
   "file_extension": ".py",
   "mimetype": "text/x-python",
   "name": "python",
   "nbconvert_exporter": "python",
   "pygments_lexer": "ipython3",
   "version": "3.11.5"
  }
 },
 "nbformat": 4,
 "nbformat_minor": 5
}
